{
 "cells": [
  {
   "cell_type": "markdown",
   "id": "74c2368e-83d5-48d7-9632-d6d95726f7f6",
   "metadata": {},
   "source": [
    "# Fashion MNIST Data Preparation\n",
    "\n",
    "First, let's get the data prepared. Luckily, PyTorch has a handy function to download it for us in its [torchvision.datasets](https://pytorch.org/docs/stable/torchvision/datasets.html#cifar) package. Go ahead and get the \n",
    "required torchvision version by running the following; you'll only need to do so once, and then click Runtime->Restart runtime to move on. Every time you restart the runtime, you'll need to re-run everything."
   ]
  },
  {
   "cell_type": "code",
   "execution_count": 1,
   "id": "3118fdd6-0b0f-4581-b4a2-b45a41611a3c",
   "metadata": {},
   "outputs": [
    {
     "name": "stdout",
     "output_type": "stream",
     "text": [
      "Downloading http://fashion-mnist.s3-website.eu-central-1.amazonaws.com/train-images-idx3-ubyte.gz\n",
      "Downloading http://fashion-mnist.s3-website.eu-central-1.amazonaws.com/train-labels-idx1-ubyte.gz\n",
      "Downloading http://fashion-mnist.s3-website.eu-central-1.amazonaws.com/t10k-images-idx3-ubyte.gz\n",
      "Downloading http://fashion-mnist.s3-website.eu-central-1.amazonaws.com/t10k-labels-idx1-ubyte.gz\n",
      "Processing...\n",
      "Done!\n"
     ]
    },
    {
     "name": "stderr",
     "output_type": "stream",
     "text": [
      "/Users/yuf/anaconda3/lib/python3.7/site-packages/torchvision/datasets/mnist.py:299: UserWarning: The given NumPy array is not writeable, and PyTorch does not support non-writeable tensors. This means you can write to the underlying (supposedly non-writeable) NumPy array using the tensor. You may want to copy the array to protect its data or make it writeable before converting it to a tensor. This type of warning will be suppressed for the rest of this program. (Triggered internally at  /Users/distiller/project/conda/conda-bld/pytorch_1634272480871/work/torch/csrc/utils/tensor_numpy.cpp:189.)\n",
      "  return torch.from_numpy(parsed).view(length, num_rows, num_cols)\n"
     ]
    }
   ],
   "source": [
    "# Download Fashion MNIST dataset from PyTorch \n",
    "import torch\n",
    "import torchvision\n",
    "import torchvision.transforms as transforms\n",
    "\n",
    "transform = transforms.Compose([\n",
    "                              transforms.Resize((32,32)),\n",
    "                              transforms.ToTensor(),\n",
    "                              ])\n",
    "PATH_TO_STORE_DATA = 'problem2/data/'\n",
    "dataset_train = torchvision.datasets.FashionMNIST(PATH_TO_STORE_DATA, download=True, train=True, \n",
    "                                             transform=transform)\n",
    "dataset_test = torchvision.datasets.FashionMNIST(PATH_TO_STORE_DATA, download=True, train=False, \n",
    "                                            transform=transform)"
   ]
  },
  {
   "cell_type": "markdown",
   "id": "89fd228e-dfd8-4a77-bcde-467253d1847b",
   "metadata": {},
   "source": [
    "ain't nobody want to write to it.... no worries"
   ]
  },
  {
   "cell_type": "code",
   "execution_count": 89,
   "id": "5c8b7956-700d-4eda-9ceb-6aeb7b126fb5",
   "metadata": {},
   "outputs": [],
   "source": [
    "\"Why do one wish to reload something?\"\n",
    "from importlib import reload  \n",
    "import data "
   ]
  },
  {
   "cell_type": "code",
   "execution_count": 95,
   "id": "69fe3bec-cb09-4583-86c8-6039fcbda9f2",
   "metadata": {},
   "outputs": [],
   "source": [
    "import matplotlib.pyplot as plt\n",
    "import random\n",
    "import torch\n",
    "import torchvision\n",
    "from torch.utils.data import Dataset\n",
    "import PIL\n",
    "import torchvision.transforms as transforms"
   ]
  },
  {
   "cell_type": "code",
   "execution_count": 93,
   "id": "8d878a1e-e358-4593-b4e5-daaeba421e84",
   "metadata": {
    "tags": []
   },
   "outputs": [],
   "source": [
    "class MNISTDatasetWrapper(Dataset):\n",
    "    \"\"\"\n",
    "    A Dataset for learning with subsets of the Fashion MNIST dataset for either the\n",
    "    original labels or labels that describe how the image has been rotated.\n",
    "    Rotations will be applied clockwise, with a random choice of one of the\n",
    "    following degrees: [0, 45, 90, 135, 180, 225, 270, 315]\n",
    "\n",
    "    - original_dataset - the fashion mnist dataset we got with torchvision\n",
    "    - pct - percent of data to use\n",
    "    - for_rotation_classification - True=Use rotation labels.\n",
    "                                    False=Use original classification labels.\n",
    "    \"\"\"\n",
    "\n",
    "    def __init__(self, original_dataset, pct=1.0, for_rotation_classification=False):\n",
    "        \n",
    "        # in case we need to get the subset\n",
    "        self.dataset_size = int(len(original_dataset)*pct)\n",
    "        self.dataset = torch.utils.data.Subset(original_dataset, random.choices(range(len(original_dataset)), k=self.dataset_size))\n",
    "        \n",
    "        self.for_rotation_classification = for_rotation_classification\n",
    "        self.label_to_class = ['T-shirt/top', 'Trouser', 'Pullover', 'Dress', 'Coat', \n",
    "                               'Sandal', 'Shirt', 'Sneaker', 'Bag', 'Ankle boot']\n",
    "        # tensor image shapte [B,C,H,W]\n",
    "        self.imageToTensor = transforms.ToTensor()\n",
    "        # PIL short for Python Image Library\n",
    "        self.tensorToImage = transforms.ToPILImage()\n",
    "        # normalize takes mean, std (given for each channel) (works on tensor only)\n",
    "        # output[channel] = (input[channel] - mean[channel]) / std[channel]\n",
    "        self.normalize = transforms.Normalize((0.2859,), (0.3530,))\n",
    "        # this is literally how you get back the original image tensor\n",
    "        self.denormalize = transforms.Normalize((-0.2859/0.3530,), (1.0/0.3530,))\n",
    "        # choices of Rotation Degrees\n",
    "        self.rot_choices = [0, 45, 90, 135, 180, 225, 270, 315]\n",
    "        # number of roationa degrees to choose from\n",
    "        self.num_rot = len(self.rot_choices)\n",
    "\n",
    "    # dumest request I have seen in my entire life candidate here\n",
    "    def __len__(self):\n",
    "        return self.dataset_size\n",
    "\n",
    "    def __getitem__(self, idx):\n",
    "        \"\"\"\n",
    "        Returns a 32x32 MNIST digit and its corresponding clothes\n",
    "        label, or if self.for_rotation_classification is true returns\n",
    "        the image rotated by a random rotation amount from\n",
    "        self.rot_choices. Note: the label should be a number between 0-7,\n",
    "        not the number of degrees to rotate by.\n",
    "        \"\"\"\n",
    "        img, label = self.dataset[idx]\n",
    "        if not self.for_rotation_classification:\n",
    "            return self.normalize(img), label\n",
    "        else:\n",
    "            img = self.tensorToImage(img)\n",
    "            label = random.choice([i for i in range(self.num_rot)])\n",
    "            rot_degree = self.rot_choices[label]\n",
    "            img = img.rotate(rot_degree)\n",
    "            img = self.normalize(self.imageToTensor(img))\n",
    "            return img, torch.tensor(label).long()\n",
    "\n",
    "    def show_batch(self, n=3):\n",
    "        fig, axs = plt.subplots(n, n)\n",
    "        fig.tight_layout()\n",
    "        for i in range(n):\n",
    "            for j in range(n):\n",
    "                rand_idx = random.randint(0, len(self)-1)\n",
    "                img, label = self.__getitem__(rand_idx)\n",
    "                axs[i, j].imshow(self.tensorToImage(self.denormalize(img)), cmap='gray')\n",
    "                if not self.for_rotation_classification:\n",
    "                    axs[i, j].set_title('Label: {0} (#{1})'.format(label.item(), self.label_to_class[label.item()]))\n",
    "                else:\n",
    "                    axs[i, j].set_title('Label: {0} ({1} Degrees)'.format(label.item(), label.item()*45))\n",
    "                axs[i, j].axis('off')"
   ]
  },
  {
   "cell_type": "code",
   "execution_count": 96,
   "id": "99357d0b-58de-4131-b593-c473c490f942",
   "metadata": {},
   "outputs": [
    {
     "name": "stdout",
     "output_type": "stream",
     "text": [
      "Full dataset: 60000 Training Samples | 10000 Test Samples\n",
      "Small train dataset: 3000 Training Samples\n"
     ]
    }
   ],
   "source": [
    "data = reload(data) #reload for making changes during debugging\n",
    "train_full_dataset = data.MNISTDatasetWrapper(dataset_train, pct=1.0)\n",
    "test_full_dataset = data.MNISTDatasetWrapper(dataset_test, pct=1.0)\n",
    "print('Full dataset: {0} Training Samples | {1} Test Samples'.format(\n",
    "    len(train_full_dataset), len(test_full_dataset)))\n",
    "\n",
    "train_small_dataset = data.MNISTDatasetWrapper(dataset_train, pct=0.05)\n",
    "print('Small train dataset: {0} Training Samples'.format(len(train_small_dataset)))"
   ]
  },
  {
   "cell_type": "markdown",
   "id": "169ba26f-4f23-456a-a30d-2d3e2f66d32b",
   "metadata": {},
   "source": [
    "Let's use the handy show_batch function to get an idea of what's in the dataset:"
   ]
  },
  {
   "cell_type": "code",
   "execution_count": 97,
   "id": "9ed94c5a-dd9e-446b-9aa4-b46b805ab9da",
   "metadata": {},
   "outputs": [
    {
     "data": {
      "image/png": "[encoded data removed]",
      "text/plain": [
       "<Figure size 432x288 with 9 Axes>"
      ]
     },
     "metadata": {
      "needs_background": "light"
     },
     "output_type": "display_data"
    }
   ],
   "source": [
    "train_full_dataset.show_batch()"
   ]
  },
  {
   "cell_type": "markdown",
   "id": "3c1d91b6-7a9c-419e-a2e1-1ca8a773b168",
   "metadata": {},
   "source": [
    "# PyTorch Vision Model\n",
    "\n",
    "Next, we need to define our neural net architectures for training on the data. Because we want to ultimately train for two objectives (clothing type classification and rotation classification), we will do this via several classes so that the weights gotten from representation learning can be re-used later for more efficient clothing classification.\n",
    "Fill in the marked portions of models.py, and try to execute the following:"
   ]
  },
  {
   "cell_type": "code",
   "execution_count": 156,
   "id": "e6a73d48-1fff-40f1-9373-ceb253f01bba",
   "metadata": {},
   "outputs": [],
   "source": [
    "import torch\n",
    "import torch.nn as nn\n",
    "from torch.autograd import Variable\n",
    "import numpy as np\n",
    "from PIL import Image"
   ]
  },
  {
   "cell_type": "code",
   "execution_count": 157,
   "id": "cd6162ae-2778-4ce8-af3e-8d4239f23d6a",
   "metadata": {},
   "outputs": [],
   "source": [
    "class ImageEmbedNet(nn.Module):\n",
    "    \"\"\"\n",
    "    A set of Conv2D layers to take features of an image and create an embedding.\n",
    "    The network has the following architecture:\n",
    "    * a 2D convolutional layer with 1 input channels, 16 output channels,\n",
    "      kernel size 5, stride 1, and padding 2\n",
    "    * an ReLU non-linearity\n",
    "    * a 2D max pool layer with kernel size 2 and stride 2\n",
    "    * a 2D convolutional layer with 16 input channels and 32 output channels, \n",
    "      kernel size 5, stride 1, and padding 2\n",
    "    * an ReLU non-linearity\n",
    "    * a 2D max pool layer with kernel size 2 and stride 2\n",
    "    * a Flatten layer\n",
    "    \"\"\"\n",
    "    def __init__(self):\n",
    "        super(ImageEmbedNet, self).__init__()\n",
    "        self.model = nn.Sequential(\n",
    "            nn.Conv2d(1,16,5,stride=1,padding=2),\n",
    "            nn.ReLU(),\n",
    "            nn.MaxPool2d(2,stride=2),\n",
    "            nn.Conv2d(16,32,5,stride=1,padding=2),\n",
    "            nn.ReLU(),\n",
    "            nn.MaxPool2d(2,stride=2),\n",
    "            # I am flattening all dimensions except the batch_dim\n",
    "            nn.Flatten()\n",
    "        )\n",
    "\n",
    "    def forward(self, image):\n",
    "        # need to ensure the image is a Tensor\n",
    "        return self.model(image)"
   ]
  },
  {
   "cell_type": "code",
   "execution_count": 158,
   "id": "db55d9ae-1639-4389-87b6-60611063e8db",
   "metadata": {},
   "outputs": [],
   "source": [
    "class ClassifyNet(nn.Module):\n",
    "    \"\"\"\n",
    "    A set of FC layers to take features of a image a classify some output.\n",
    "    The network has the following architecture:\n",
    "    * a linear layer with input side input_size and output size hidden_layer_size\n",
    "    * an ReLU non-linearity\n",
    "    * a linear layer with input side hidden_layer_size and output size hidden_layer_size\n",
    "    * an ReLU non-linearity\n",
    "    * a linear layer with input side hidden_layer_size and output size output_size\n",
    "    \"\"\"\n",
    "    def __init__(self, output_size,\n",
    "                       input_size=2048,\n",
    "                       hidden_layer_size=25):\n",
    "        super(ClassifyNet, self).__init__()\n",
    "        self.model = nn.Sequential(\n",
    "            nn.Linear(input_size, hidden_layer_size),\n",
    "            nn.ReLU(),\n",
    "            nn.Linear(hidden_layer_size, hidden_layer_size),\n",
    "            nn.ReLU(),\n",
    "            nn.Linear(hidden_layer_size, output_size)\n",
    "        )\n",
    "\n",
    "    def forward(self, image_features):\n",
    "        return self.model(image_features)"
   ]
  },
  {
   "cell_type": "code",
   "execution_count": 182,
   "id": "00277137-1860-49cf-9165-5160907e9d0f",
   "metadata": {},
   "outputs": [],
   "source": [
    "class ImageClassifyModel(object):\n",
    "    \"\"\"\n",
    "    A small class to combine image embedding and classification \n",
    "    \"\"\"\n",
    "    def __init__(self, image_embed_net,\n",
    "                       image_classify_net,\n",
    "                       exclude_embed_params=False):\n",
    "        self.image_embed_net = image_embed_net \n",
    "        self.image_classify_net = image_classify_net\n",
    "        self.parameters = []\n",
    "        '''\n",
    "        TODO if exclude_embed_params, have parameters be the parameters from\n",
    "        image_classify_net, otherwise have it be a list of the parameters of\n",
    "        both image_embed_net and image_classify_net\n",
    "        \n",
    "        I suspect this is NOT the Correct way of doing it (Or what it's Asking)\n",
    "        '''\n",
    "        if exclude_embed_params:\n",
    "            self.parameters.append(self.image_classify_net.parameters())\n",
    "        else:\n",
    "            self.parameters.append(self.image_embed_net.parameters())\n",
    "            self.parameters.append(self.image_classify_net.parameters())\n",
    "      \n",
    "    def classify(self, image):\n",
    "        image_features = self.image_embed_net(image)\n",
    "        return self.image_classify_net(image_features)"
   ]
  },
  {
   "cell_type": "code",
   "execution_count": 183,
   "id": "195027a3-6140-4a27-9d46-80daa2c7564a",
   "metadata": {},
   "outputs": [],
   "source": [
    "import models\n",
    "models = reload(models) #reload for making changes during debugging\n",
    "\n",
    "#image_embed_net = models.ImageEmbedNet().cuda()\n",
    "#classify_net = models.ClassifyNet(10).cuda()\n",
    "\n",
    "image_embed_net = ImageEmbedNet()\n",
    "classify_net = ClassifyNet(10)\n",
    "mnist_classify_model = ImageClassifyModel(image_embed_net, classify_net)"
   ]
  },
  {
   "cell_type": "markdown",
   "id": "ca6a41da-e979-4955-8fed-3d686985e951",
   "metadata": {},
   "source": [
    "# Training for Fashion MNIST Class Prediction\n",
    "\n",
    "Let's now implement a method for training on the dataset with the model we defined above. We will create a re-usable function that can be used for both representation learning and learning to classify Fashion MNIST images. This will involve the following:\n",
    "*   Given the dataset, creating a PyTorch [DataLoader](https://pytorch.org/docs/stable/data.html#torch.utils.data.DataLoader) which can take care of shuffling the dataset as well as combining multiple image.\n",
    "*   Creating a PyTorch loss function that can be used for optimizing our model for the task of classification. We will use the standard [Cross Entropy Loss](https://pytorch.org/docs/stable/generated/torch.nn.CrossEntropyLoss.html).\n",
    "*   Creating a PyTorch [optimizer](https://pytorch.org/docs/stable/optim.html) to update the weights of the model given the loss computation.\n",
    "*   Lastly, our two training loops (one for the number of epochs, and one for iterating over the dataset) in which we use all the above to train the model.\n",
    "\n",
    "Fill in the relevant portions of code in training.py, and try to execute the following to go ahead and train on the Fashion MNIST classification task. If training.py is finished, we now just need to call its train function:"
   ]
  },
  {
   "cell_type": "code",
   "execution_count": 217,
   "id": "449780d1-4454-4955-bc5c-5b704b7f96b2",
   "metadata": {},
   "outputs": [],
   "source": [
    "import torch\n",
    "import torch.nn as nn\n",
    "from torch import optim\n",
    "from torch.utils.data import DataLoader\n",
    "import matplotlib.pyplot as plt\n",
    "import numpy as np\n",
    "import tqdm"
   ]
  },
  {
   "cell_type": "code",
   "execution_count": 242,
   "id": "1dc9fdb4-e74d-4879-bb92-da134f7a2ea5",
   "metadata": {},
   "outputs": [],
   "source": [
    "\"\"\"\n",
    "The Training here concerns only the Classification task\n",
    "\"\"\"\n",
    "def train(dataset, model, batch_size, epochs):\n",
    "    \"\"\"\n",
    "    A function that trains the given model on the provided dataset.\n",
    "    1. The momentum method in SGD uses running (exponential) average to denoise against the random noise\n",
    "       and provide better estimate of the gradient (smaller variance estimator somehow, I am not sure if\n",
    "       it always work)\n",
    "    \"\"\"\n",
    "    # TODO initialize a DataLoader on the dataset with the appropriate batch\n",
    "    # size and shuffling enabled.\n",
    "    data_loader = DataLoader(dataset, batch_size=batch_size, shuffle=True)\n",
    "\n",
    "    # TODO initialize this to be a Cross Entropy Classification loss.\n",
    "    criterion = nn.CrossEntropyLoss()\n",
    "\n",
    "    # TODO initialize this to be an Stochastic gradient descent optimizer with\n",
    "    # learning rate set to 0.001 and momentum set to 0.9.\n",
    "    \"\"\"\n",
    "    Are we training on both the embedding and the classifynet or just the classify net?\n",
    "    \"\"\"\n",
    "    params = []\n",
    "    for param in model.parameters:\n",
    "        params.append({'params':param})\n",
    "    optimizer = optim.SGD(params, lr=0.001, momentum=0.9)\n",
    "\n",
    "    losses = []\n",
    "    accuracies = []\n",
    "    for e in range(epochs):\n",
    "        running_loss = 0\n",
    "        correct_count = 0\n",
    "        for images, labels in tqdm.tqdm(data_loader,'Training for one epoch'):\n",
    "            # Training pass\n",
    "            optimizer.zero_grad()\n",
    "            #images_cuda = images\n",
    "            #labels_cuda = labels\n",
    "\n",
    "            # Call the model's classify method with images_cuda.\n",
    "            output = model.classify(images)\n",
    "\n",
    "            # Call the criterion with the ouput and labels_cuda.\n",
    "            loss = criterion(output, labels)\n",
    "\n",
    "            # Calculate accuracy, return the index of maximum values on each batch\n",
    "            _, predictions = torch.max(output, 1)\n",
    "\n",
    "            # TODO calculate the number of correctly classified inputs.\n",
    "            # num_correct = sum(predictions==labels).item()\n",
    "            num_correct = sum(predictions==labels)\n",
    "\n",
    "            correct_count += num_correct\n",
    "\n",
    "            if e > 0: # Don't optimize at epoch 0, to see how model starts\n",
    "                # Here we use the loss to back propagate errors, and then do an\n",
    "                # optimization step.\n",
    "\n",
    "                # Get model weight updates by backpropagating the loss with backward()\n",
    "                loss.backward()\n",
    "\n",
    "                # Apply the weight updates with the optimizer with step()\n",
    "                optimizer.step()\n",
    "\n",
    "            running_loss += loss.item()\n",
    "\n",
    "        # Calculate the average loss in this epoch.\n",
    "        epoch_loss = running_loss / len(dataset)\n",
    "\n",
    "        # Calculate the float accuracy of this epoch.\n",
    "        accuracy = correct_count / len(dataset)\n",
    "\n",
    "        losses.append(epoch_loss)\n",
    "        accuracies.append(accuracy)\n",
    "        print(\"Epoch %d - Training loss: %.3f , Training Accuracy: %.3f\\n\"%(e, \n",
    "                                                                          epoch_loss, \n",
    "                                                                          accuracy))\n",
    "\n",
    "    fig, (ax1, ax2) = plt.subplots(1, 2, figsize=(12, 4))\n",
    "    ax1.plot(losses)\n",
    "    ax2.plot(accuracies)\n",
    "    ax1.set_xlabel('Epoch')\n",
    "    ax1.set_ylabel('Loss')\n",
    "    ax2.set_xlabel('Epoch')\n",
    "    ax2.set_ylabel('Accuracy')\n",
    "    plt.show()"
   ]
  },
  {
   "cell_type": "code",
   "execution_count": 227,
   "id": "c3ad3d0e-465d-4d6f-a855-9b8720103db3",
   "metadata": {
    "tags": []
   },
   "outputs": [
    {
     "name": "stderr",
     "output_type": "stream",
     "text": [
      "Training for one epoch: 100%|██████████| 3750/3750 [00:17<00:00, 210.92it/s]\n"
     ]
    },
    {
     "name": "stdout",
     "output_type": "stream",
     "text": [
      "Epoch 0 - Training loss: 0.144 , Training Accuracy: 0.099\n",
      "\n"
     ]
    },
    {
     "name": "stderr",
     "output_type": "stream",
     "text": [
      "Training for one epoch: 100%|██████████| 3750/3750 [00:36<00:00, 101.37it/s]\n"
     ]
    },
    {
     "name": "stdout",
     "output_type": "stream",
     "text": [
      "Epoch 1 - Training loss: 0.048 , Training Accuracy: 0.715\n",
      "\n"
     ]
    },
    {
     "name": "stderr",
     "output_type": "stream",
     "text": [
      "Training for one epoch: 100%|██████████| 3750/3750 [00:37<00:00, 100.24it/s]\n"
     ]
    },
    {
     "name": "stdout",
     "output_type": "stream",
     "text": [
      "Epoch 2 - Training loss: 0.026 , Training Accuracy: 0.851\n",
      "\n"
     ]
    },
    {
     "name": "stderr",
     "output_type": "stream",
     "text": [
      "Training for one epoch: 100%|██████████| 3750/3750 [00:36<00:00, 101.35it/s]\n"
     ]
    },
    {
     "name": "stdout",
     "output_type": "stream",
     "text": [
      "Epoch 3 - Training loss: 0.021 , Training Accuracy: 0.876\n",
      "\n"
     ]
    },
    {
     "name": "stderr",
     "output_type": "stream",
     "text": [
      "Training for one epoch: 100%|██████████| 3750/3750 [00:36<00:00, 101.68it/s]\n"
     ]
    },
    {
     "name": "stdout",
     "output_type": "stream",
     "text": [
      "Epoch 4 - Training loss: 0.018 , Training Accuracy: 0.892\n",
      "\n"
     ]
    },
    {
     "name": "stderr",
     "output_type": "stream",
     "text": [
      "Training for one epoch: 100%|██████████| 3750/3750 [00:35<00:00, 104.33it/s]\n"
     ]
    },
    {
     "name": "stdout",
     "output_type": "stream",
     "text": [
      "Epoch 5 - Training loss: 0.016 , Training Accuracy: 0.903\n",
      "\n"
     ]
    },
    {
     "name": "stderr",
     "output_type": "stream",
     "text": [
      "Training for one epoch: 100%|██████████| 3750/3750 [00:35<00:00, 105.87it/s]\n"
     ]
    },
    {
     "name": "stdout",
     "output_type": "stream",
     "text": [
      "Epoch 6 - Training loss: 0.015 , Training Accuracy: 0.912\n",
      "\n"
     ]
    },
    {
     "name": "stderr",
     "output_type": "stream",
     "text": [
      "Training for one epoch: 100%|██████████| 3750/3750 [00:36<00:00, 103.58it/s]\n"
     ]
    },
    {
     "name": "stdout",
     "output_type": "stream",
     "text": [
      "Epoch 7 - Training loss: 0.014 , Training Accuracy: 0.919\n",
      "\n"
     ]
    },
    {
     "name": "stderr",
     "output_type": "stream",
     "text": [
      "Training for one epoch: 100%|██████████| 3750/3750 [00:35<00:00, 104.81it/s]\n"
     ]
    },
    {
     "name": "stdout",
     "output_type": "stream",
     "text": [
      "Epoch 8 - Training loss: 0.013 , Training Accuracy: 0.926\n",
      "\n"
     ]
    },
    {
     "name": "stderr",
     "output_type": "stream",
     "text": [
      "Training for one epoch: 100%|██████████| 3750/3750 [00:35<00:00, 104.36it/s]\n"
     ]
    },
    {
     "name": "stdout",
     "output_type": "stream",
     "text": [
      "Epoch 9 - Training loss: 0.012 , Training Accuracy: 0.931\n",
      "\n"
     ]
    },
    {
     "data": {
      "image/png": "[encoded data removed]",
      "text/plain": [
       "<Figure size 864x288 with 2 Axes>"
      ]
     },
     "metadata": {
      "needs_background": "light"
     },
     "output_type": "display_data"
    }
   ],
   "source": [
    "import models\n",
    "models = reload(models) #reload for making changes during debugging\n",
    "\n",
    "#image_embed_net = models.ImageEmbedNet().cuda()\n",
    "#classify_net = models.ClassifyNet(10).cuda()\n",
    "\n",
    "image_embed_net = ImageEmbedNet()\n",
    "classify_net = ClassifyNet(10)\n",
    "mnist_classify_model = ImageClassifyModel(image_embed_net, classify_net)\n",
    "\n",
    "# obviously we have a bug on the accuracy level\n",
    "train(train_full_dataset, mnist_classify_model, 16, 10)"
   ]
  },
  {
   "cell_type": "markdown",
   "id": "029ae90f-98ad-41d2-b5ab-77d77b4edfbd",
   "metadata": {},
   "source": [
    "You should get training accuracy of around 0.92. With the model now trained, let's implement a test function and call it to see how well it works on the test set. Finish the marked portions in testing.py and run the following:"
   ]
  },
  {
   "cell_type": "code",
   "execution_count": 238,
   "id": "48986dd1-b2c8-4bed-91b5-bd7c915ab144",
   "metadata": {},
   "outputs": [],
   "source": [
    "def test(dataset, model, batch_size):\n",
    "    # TODO initialize a DataLoader on the dataset with the appropriate batch\n",
    "    # size and shuffling enabled.\n",
    "    data_loader = DataLoader(dataset, batch_size, shuffle=True)\n",
    "\n",
    "    correct_count = 0\n",
    "    for images, labels in data_loader:\n",
    "        output = model.classify(images)\n",
    "\n",
    "        # Calculate accuracy\n",
    "        _, predictions = torch.max(output, 1)\n",
    "\n",
    "        # Calculate the number of correctly classified inputs.\n",
    "        num_correct = sum(predictions==labels)\n",
    "\n",
    "        correct_count+=num_correct\n",
    "\n",
    "    # Calculate the float accuracy for the whole dataset.\n",
    "    accuracy = correct_count / len(dataset)\n",
    "    print(\"Testing Accuracy: %.3f\"%(accuracy))"
   ]
  },
  {
   "cell_type": "code",
   "execution_count": 239,
   "id": "5683da90-66aa-4b8f-99b4-01759aededbc",
   "metadata": {},
   "outputs": [
    {
     "name": "stdout",
     "output_type": "stream",
     "text": [
      "Testing Accuracy: 0.887\n"
     ]
    }
   ],
   "source": [
    "import testing\n",
    "\n",
    "test(test_full_dataset, mnist_classify_model, 16)"
   ]
  },
  {
   "cell_type": "markdown",
   "id": "a0cb10ff-ee24-47c5-88d0-27105b722b2f",
   "metadata": {},
   "source": [
    "You should get test set accuracy slighty lower than the train set accuracy. The accuracy is not great; on such simple data it should be fairly easy to get close to perfect accuracy. We'll try to address this with representation learning.\n",
    "\n",
    "Before that, let's try training on the smaller train set, and see how well the model can work on the test set."
   ]
  },
  {
   "cell_type": "code",
   "execution_count": 243,
   "id": "33d0dee3-db73-4334-8ab6-6781f3103f65",
   "metadata": {},
   "outputs": [
    {
     "name": "stderr",
     "output_type": "stream",
     "text": [
      "Training for one epoch: 100%|██████████| 188/188 [00:00<00:00, 222.14it/s]\n"
     ]
    },
    {
     "name": "stdout",
     "output_type": "stream",
     "text": [
      "Epoch 0 - Training loss: 0.144 , Training Accuracy: 0.098\n",
      "\n"
     ]
    },
    {
     "name": "stderr",
     "output_type": "stream",
     "text": [
      "Training for one epoch: 100%|██████████| 188/188 [00:01<00:00, 109.21it/s]\n"
     ]
    },
    {
     "name": "stdout",
     "output_type": "stream",
     "text": [
      "Epoch 1 - Training loss: 0.142 , Training Accuracy: 0.192\n",
      "\n"
     ]
    },
    {
     "name": "stderr",
     "output_type": "stream",
     "text": [
      "Training for one epoch: 100%|██████████| 188/188 [00:01<00:00, 109.10it/s]\n"
     ]
    },
    {
     "name": "stdout",
     "output_type": "stream",
     "text": [
      "Epoch 2 - Training loss: 0.095 , Training Accuracy: 0.510\n",
      "\n"
     ]
    },
    {
     "name": "stderr",
     "output_type": "stream",
     "text": [
      "Training for one epoch: 100%|██████████| 188/188 [00:01<00:00, 109.16it/s]\n"
     ]
    },
    {
     "name": "stdout",
     "output_type": "stream",
     "text": [
      "Epoch 3 - Training loss: 0.060 , Training Accuracy: 0.654\n",
      "\n"
     ]
    },
    {
     "name": "stderr",
     "output_type": "stream",
     "text": [
      "Training for one epoch: 100%|██████████| 188/188 [00:01<00:00, 109.00it/s]\n"
     ]
    },
    {
     "name": "stdout",
     "output_type": "stream",
     "text": [
      "Epoch 4 - Training loss: 0.054 , Training Accuracy: 0.691\n",
      "\n"
     ]
    },
    {
     "name": "stderr",
     "output_type": "stream",
     "text": [
      "Training for one epoch: 100%|██████████| 188/188 [00:01<00:00, 108.91it/s]\n"
     ]
    },
    {
     "name": "stdout",
     "output_type": "stream",
     "text": [
      "Epoch 5 - Training loss: 0.047 , Training Accuracy: 0.732\n",
      "\n"
     ]
    },
    {
     "name": "stderr",
     "output_type": "stream",
     "text": [
      "Training for one epoch: 100%|██████████| 188/188 [00:01<00:00, 109.04it/s]\n"
     ]
    },
    {
     "name": "stdout",
     "output_type": "stream",
     "text": [
      "Epoch 6 - Training loss: 0.043 , Training Accuracy: 0.749\n",
      "\n"
     ]
    },
    {
     "name": "stderr",
     "output_type": "stream",
     "text": [
      "Training for one epoch: 100%|██████████| 188/188 [00:01<00:00, 109.10it/s]\n"
     ]
    },
    {
     "name": "stdout",
     "output_type": "stream",
     "text": [
      "Epoch 7 - Training loss: 0.040 , Training Accuracy: 0.778\n",
      "\n"
     ]
    },
    {
     "name": "stderr",
     "output_type": "stream",
     "text": [
      "Training for one epoch: 100%|██████████| 188/188 [00:01<00:00, 109.32it/s]\n"
     ]
    },
    {
     "name": "stdout",
     "output_type": "stream",
     "text": [
      "Epoch 8 - Training loss: 0.038 , Training Accuracy: 0.781\n",
      "\n"
     ]
    },
    {
     "name": "stderr",
     "output_type": "stream",
     "text": [
      "Training for one epoch: 100%|██████████| 188/188 [00:01<00:00, 109.35it/s]\n"
     ]
    },
    {
     "name": "stdout",
     "output_type": "stream",
     "text": [
      "Epoch 9 - Training loss: 0.036 , Training Accuracy: 0.798\n",
      "\n"
     ]
    },
    {
     "data": {
      "image/png": "[encoded data removed]",
      "text/plain": [
       "<Figure size 864x288 with 2 Axes>"
      ]
     },
     "metadata": {
      "needs_background": "light"
     },
     "output_type": "display_data"
    },
    {
     "name": "stdout",
     "output_type": "stream",
     "text": [
      "Testing Accuracy: 0.778\n"
     ]
    }
   ],
   "source": [
    "image_embed_net = ImageEmbedNet()\n",
    "classify_net = ClassifyNet(10)\n",
    "mnist_classify_model = ImageClassifyModel(image_embed_net, classify_net)\n",
    "train(train_small_dataset, mnist_classify_model, 16, 10)\n",
    "test(test_full_dataset, mnist_classify_model, 16)"
   ]
  },
  {
   "cell_type": "markdown",
   "id": "66139334-93d7-4dd2-ad09-d2a21cc28398",
   "metadata": {},
   "source": [
    "# Representation Learning via Rotation Classification"
   ]
  },
  {
   "cell_type": "markdown",
   "id": "f6bd589b-23dc-4ac4-8398-6bc6a7e8645a",
   "metadata": {},
   "source": [
    "Now, let's define new datasets for doing our representation learning by predicting the rotation of Fashion MNIST images, and once again call show_batch to get a look at the data:"
   ]
  },
  {
   "cell_type": "code",
   "execution_count": 245,
   "id": "b556dade-33b0-4a78-b161-c44fba67faaa",
   "metadata": {},
   "outputs": [
    {
     "data": {
      "image/png": "[encoded data removed]",
      "text/plain": [
       "<Figure size 432x288 with 9 Axes>"
      ]
     },
     "metadata": {
      "needs_background": "light"
     },
     "output_type": "display_data"
    }
   ],
   "source": [
    "data = reload(data) #reload for making changes during debugging\n",
    "\n",
    "train_rotation_dataset = MNISTDatasetWrapper(dataset_train, \n",
    "                                          pct=1.0, for_rotation_classification=True)\n",
    "test_rotation_dataset = MNISTDatasetWrapper(dataset_test, \n",
    "                                         pct=1.0, for_rotation_classification=True)\n",
    "train_rotation_dataset.show_batch()"
   ]
  },
  {
   "cell_type": "markdown",
   "id": "c45910e0-2bc6-478a-bcaa-63c70c438e9d",
   "metadata": {},
   "source": [
    "Now, let's train a model on the rotation prediction task by once again using our train function:"
   ]
  },
  {
   "cell_type": "code",
   "execution_count": 247,
   "id": "0f97665b-fb7b-4805-ad00-4e5a61acd8c5",
   "metadata": {},
   "outputs": [
    {
     "name": "stderr",
     "output_type": "stream",
     "text": [
      "Training for one epoch: 100%|██████████| 3750/3750 [00:24<00:00, 156.18it/s]\n"
     ]
    },
    {
     "name": "stdout",
     "output_type": "stream",
     "text": [
      "Epoch 0 - Training loss: 0.130 , Training Accuracy: 0.123\n",
      "\n"
     ]
    },
    {
     "name": "stderr",
     "output_type": "stream",
     "text": [
      "Training for one epoch: 100%|██████████| 3750/3750 [00:43<00:00, 86.13it/s]\n"
     ]
    },
    {
     "name": "stdout",
     "output_type": "stream",
     "text": [
      "Epoch 1 - Training loss: 0.056 , Training Accuracy: 0.662\n",
      "\n"
     ]
    },
    {
     "name": "stderr",
     "output_type": "stream",
     "text": [
      "Training for one epoch: 100%|██████████| 3750/3750 [00:44<00:00, 84.88it/s]\n"
     ]
    },
    {
     "name": "stdout",
     "output_type": "stream",
     "text": [
      "Epoch 2 - Training loss: 0.018 , Training Accuracy: 0.900\n",
      "\n"
     ]
    },
    {
     "name": "stderr",
     "output_type": "stream",
     "text": [
      "Training for one epoch: 100%|██████████| 3750/3750 [00:43<00:00, 86.35it/s]\n"
     ]
    },
    {
     "name": "stdout",
     "output_type": "stream",
     "text": [
      "Epoch 3 - Training loss: 0.013 , Training Accuracy: 0.933\n",
      "\n"
     ]
    },
    {
     "name": "stderr",
     "output_type": "stream",
     "text": [
      "Training for one epoch: 100%|██████████| 3750/3750 [00:43<00:00, 86.43it/s]\n"
     ]
    },
    {
     "name": "stdout",
     "output_type": "stream",
     "text": [
      "Epoch 4 - Training loss: 0.010 , Training Accuracy: 0.947\n",
      "\n"
     ]
    },
    {
     "name": "stderr",
     "output_type": "stream",
     "text": [
      "Training for one epoch: 100%|██████████| 3750/3750 [00:43<00:00, 86.85it/s]\n"
     ]
    },
    {
     "name": "stdout",
     "output_type": "stream",
     "text": [
      "Epoch 5 - Training loss: 0.009 , Training Accuracy: 0.956\n",
      "\n"
     ]
    },
    {
     "name": "stderr",
     "output_type": "stream",
     "text": [
      "Training for one epoch: 100%|██████████| 3750/3750 [00:43<00:00, 85.33it/s]\n"
     ]
    },
    {
     "name": "stdout",
     "output_type": "stream",
     "text": [
      "Epoch 6 - Training loss: 0.007 , Training Accuracy: 0.962\n",
      "\n"
     ]
    },
    {
     "name": "stderr",
     "output_type": "stream",
     "text": [
      "Training for one epoch: 100%|██████████| 3750/3750 [00:45<00:00, 82.27it/s]\n"
     ]
    },
    {
     "name": "stdout",
     "output_type": "stream",
     "text": [
      "Epoch 7 - Training loss: 0.007 , Training Accuracy: 0.966\n",
      "\n"
     ]
    },
    {
     "name": "stderr",
     "output_type": "stream",
     "text": [
      "Training for one epoch: 100%|██████████| 3750/3750 [00:46<00:00, 80.94it/s]\n"
     ]
    },
    {
     "name": "stdout",
     "output_type": "stream",
     "text": [
      "Epoch 8 - Training loss: 0.006 , Training Accuracy: 0.968\n",
      "\n"
     ]
    },
    {
     "name": "stderr",
     "output_type": "stream",
     "text": [
      "Training for one epoch: 100%|██████████| 3750/3750 [00:44<00:00, 85.03it/s]\n"
     ]
    },
    {
     "name": "stdout",
     "output_type": "stream",
     "text": [
      "Epoch 9 - Training loss: 0.006 , Training Accuracy: 0.971\n",
      "\n"
     ]
    },
    {
     "name": "stderr",
     "output_type": "stream",
     "text": [
      "Training for one epoch: 100%|██████████| 3750/3750 [00:44<00:00, 84.74it/s]\n"
     ]
    },
    {
     "name": "stdout",
     "output_type": "stream",
     "text": [
      "Epoch 10 - Training loss: 0.005 , Training Accuracy: 0.973\n",
      "\n"
     ]
    },
    {
     "name": "stderr",
     "output_type": "stream",
     "text": [
      "Training for one epoch: 100%|██████████| 3750/3750 [00:44<00:00, 84.08it/s]\n"
     ]
    },
    {
     "name": "stdout",
     "output_type": "stream",
     "text": [
      "Epoch 11 - Training loss: 0.005 , Training Accuracy: 0.975\n",
      "\n"
     ]
    },
    {
     "name": "stderr",
     "output_type": "stream",
     "text": [
      "Training for one epoch: 100%|██████████| 3750/3750 [00:44<00:00, 84.60it/s]\n"
     ]
    },
    {
     "name": "stdout",
     "output_type": "stream",
     "text": [
      "Epoch 12 - Training loss: 0.005 , Training Accuracy: 0.975\n",
      "\n"
     ]
    },
    {
     "name": "stderr",
     "output_type": "stream",
     "text": [
      "Training for one epoch: 100%|██████████| 3750/3750 [00:44<00:00, 83.61it/s]\n"
     ]
    },
    {
     "name": "stdout",
     "output_type": "stream",
     "text": [
      "Epoch 13 - Training loss: 0.004 , Training Accuracy: 0.977\n",
      "\n"
     ]
    },
    {
     "name": "stderr",
     "output_type": "stream",
     "text": [
      "Training for one epoch: 100%|██████████| 3750/3750 [00:44<00:00, 83.66it/s]\n"
     ]
    },
    {
     "name": "stdout",
     "output_type": "stream",
     "text": [
      "Epoch 14 - Training loss: 0.004 , Training Accuracy: 0.978\n",
      "\n"
     ]
    },
    {
     "name": "stderr",
     "output_type": "stream",
     "text": [
      "Training for one epoch: 100%|██████████| 3750/3750 [00:44<00:00, 83.93it/s]\n"
     ]
    },
    {
     "name": "stdout",
     "output_type": "stream",
     "text": [
      "Epoch 15 - Training loss: 0.004 , Training Accuracy: 0.979\n",
      "\n"
     ]
    },
    {
     "name": "stderr",
     "output_type": "stream",
     "text": [
      "Training for one epoch: 100%|██████████| 3750/3750 [00:44<00:00, 84.99it/s]\n"
     ]
    },
    {
     "name": "stdout",
     "output_type": "stream",
     "text": [
      "Epoch 16 - Training loss: 0.004 , Training Accuracy: 0.980\n",
      "\n"
     ]
    },
    {
     "name": "stderr",
     "output_type": "stream",
     "text": [
      "Training for one epoch: 100%|██████████| 3750/3750 [00:43<00:00, 85.45it/s]\n"
     ]
    },
    {
     "name": "stdout",
     "output_type": "stream",
     "text": [
      "Epoch 17 - Training loss: 0.004 , Training Accuracy: 0.981\n",
      "\n"
     ]
    },
    {
     "name": "stderr",
     "output_type": "stream",
     "text": [
      "Training for one epoch: 100%|██████████| 3750/3750 [00:43<00:00, 85.31it/s]\n"
     ]
    },
    {
     "name": "stdout",
     "output_type": "stream",
     "text": [
      "Epoch 18 - Training loss: 0.003 , Training Accuracy: 0.982\n",
      "\n"
     ]
    },
    {
     "name": "stderr",
     "output_type": "stream",
     "text": [
      "Training for one epoch: 100%|██████████| 3750/3750 [00:43<00:00, 85.30it/s]\n"
     ]
    },
    {
     "name": "stdout",
     "output_type": "stream",
     "text": [
      "Epoch 19 - Training loss: 0.003 , Training Accuracy: 0.982\n",
      "\n"
     ]
    },
    {
     "name": "stderr",
     "output_type": "stream",
     "text": [
      "Training for one epoch: 100%|██████████| 3750/3750 [00:44<00:00, 85.15it/s]\n"
     ]
    },
    {
     "name": "stdout",
     "output_type": "stream",
     "text": [
      "Epoch 20 - Training loss: 0.003 , Training Accuracy: 0.982\n",
      "\n"
     ]
    },
    {
     "name": "stderr",
     "output_type": "stream",
     "text": [
      "Training for one epoch: 100%|██████████| 3750/3750 [00:44<00:00, 84.38it/s]\n"
     ]
    },
    {
     "name": "stdout",
     "output_type": "stream",
     "text": [
      "Epoch 21 - Training loss: 0.003 , Training Accuracy: 0.984\n",
      "\n"
     ]
    },
    {
     "name": "stderr",
     "output_type": "stream",
     "text": [
      "Training for one epoch: 100%|██████████| 3750/3750 [00:43<00:00, 86.04it/s]\n"
     ]
    },
    {
     "name": "stdout",
     "output_type": "stream",
     "text": [
      "Epoch 22 - Training loss: 0.003 , Training Accuracy: 0.984\n",
      "\n"
     ]
    },
    {
     "name": "stderr",
     "output_type": "stream",
     "text": [
      "Training for one epoch: 100%|██████████| 3750/3750 [00:44<00:00, 84.22it/s]\n"
     ]
    },
    {
     "name": "stdout",
     "output_type": "stream",
     "text": [
      "Epoch 23 - Training loss: 0.003 , Training Accuracy: 0.984\n",
      "\n"
     ]
    },
    {
     "name": "stderr",
     "output_type": "stream",
     "text": [
      "Training for one epoch: 100%|██████████| 3750/3750 [00:45<00:00, 82.03it/s]\n"
     ]
    },
    {
     "name": "stdout",
     "output_type": "stream",
     "text": [
      "Epoch 24 - Training loss: 0.003 , Training Accuracy: 0.985\n",
      "\n"
     ]
    },
    {
     "data": {
      "image/png": "[encoded data removed]",
      "text/plain": [
       "<Figure size 864x288 with 2 Axes>"
      ]
     },
     "metadata": {
      "needs_background": "light"
     },
     "output_type": "display_data"
    }
   ],
   "source": [
    "rotation_image_embed_net = ImageEmbedNet()\n",
    "rotation_classify_net = ClassifyNet(8)\n",
    "mnist_rotation_classify_model = ImageClassifyModel(rotation_image_embed_net, \n",
    "                                                   rotation_classify_net)\n",
    "train(train_rotation_dataset, mnist_rotation_classify_model, 16, 25)"
   ]
  },
  {
   "cell_type": "markdown",
   "id": "ea88985b-725b-4e1e-9b0e-5f78e19fa528",
   "metadata": {},
   "source": [
    "As you should see, the network manages to get quite good at predicting rotations, with around 0.98 accuracy.\n",
    "\n",
    "We should once again get testing accuracy similar to training accuracy (around 0.98):"
   ]
  },
  {
   "cell_type": "code",
   "execution_count": 249,
   "id": "6e90b3a2-c6f1-4037-a6b8-be994f0bea4d",
   "metadata": {},
   "outputs": [
    {
     "name": "stdout",
     "output_type": "stream",
     "text": [
      "Testing Accuracy: 0.980\n"
     ]
    }
   ],
   "source": [
    "test(test_rotation_dataset, mnist_rotation_classify_model, 16)"
   ]
  },
  {
   "cell_type": "markdown",
   "id": "c48928d4-9c9b-499b-8365-ca55d2f61988",
   "metadata": {},
   "source": [
    "# Fine-Tuning for Fashion MNIST classification"
   ]
  },
  {
   "cell_type": "markdown",
   "id": "73790387-c6fd-4c1c-a9c4-3f6f6b54ec49",
   "metadata": {},
   "source": [
    "Now that we have pretrained our model on the rotation prediction task, let's reuse the image embed part of it to train it for the task of class classification. We will use load_state_dict to transfer over the weights from the trained model to a new instance of it, so we can later re-use the same representation learning weights in a different setup. Let's first try it on the full dataset and see how fast it converges compared to when we did not pretrain it."
   ]
  },
  {
   "cell_type": "code",
   "execution_count": 253,
   "id": "c9e44071-7242-499f-996c-1b64b3fcf2bc",
   "metadata": {},
   "outputs": [
    {
     "name": "stderr",
     "output_type": "stream",
     "text": [
      "Training for one epoch: 100%|██████████| 3750/3750 [00:18<00:00, 204.29it/s]\n"
     ]
    },
    {
     "name": "stdout",
     "output_type": "stream",
     "text": [
      "Epoch 0 - Training loss: 0.145 , Training Accuracy: 0.072\n",
      "\n"
     ]
    },
    {
     "name": "stderr",
     "output_type": "stream",
     "text": [
      "Training for one epoch: 100%|██████████| 3750/3750 [00:37<00:00, 99.84it/s] \n"
     ]
    },
    {
     "name": "stdout",
     "output_type": "stream",
     "text": [
      "Epoch 1 - Training loss: 0.027 , Training Accuracy: 0.844\n",
      "\n"
     ]
    },
    {
     "name": "stderr",
     "output_type": "stream",
     "text": [
      "Training for one epoch: 100%|██████████| 3750/3750 [00:37<00:00, 99.63it/s] \n"
     ]
    },
    {
     "name": "stdout",
     "output_type": "stream",
     "text": [
      "Epoch 2 - Training loss: 0.017 , Training Accuracy: 0.901\n",
      "\n"
     ]
    },
    {
     "name": "stderr",
     "output_type": "stream",
     "text": [
      "Training for one epoch: 100%|██████████| 3750/3750 [00:37<00:00, 101.16it/s]\n"
     ]
    },
    {
     "name": "stdout",
     "output_type": "stream",
     "text": [
      "Epoch 3 - Training loss: 0.014 , Training Accuracy: 0.916\n",
      "\n"
     ]
    },
    {
     "name": "stderr",
     "output_type": "stream",
     "text": [
      "Training for one epoch: 100%|██████████| 3750/3750 [00:37<00:00, 100.60it/s]\n"
     ]
    },
    {
     "name": "stdout",
     "output_type": "stream",
     "text": [
      "Epoch 4 - Training loss: 0.013 , Training Accuracy: 0.925\n",
      "\n"
     ]
    },
    {
     "name": "stderr",
     "output_type": "stream",
     "text": [
      "Training for one epoch: 100%|██████████| 3750/3750 [00:37<00:00, 100.40it/s]\n"
     ]
    },
    {
     "name": "stdout",
     "output_type": "stream",
     "text": [
      "Epoch 5 - Training loss: 0.011 , Training Accuracy: 0.933\n",
      "\n"
     ]
    },
    {
     "name": "stderr",
     "output_type": "stream",
     "text": [
      "Training for one epoch: 100%|██████████| 3750/3750 [00:37<00:00, 100.86it/s]\n"
     ]
    },
    {
     "name": "stdout",
     "output_type": "stream",
     "text": [
      "Epoch 6 - Training loss: 0.010 , Training Accuracy: 0.941\n",
      "\n"
     ]
    },
    {
     "name": "stderr",
     "output_type": "stream",
     "text": [
      "Training for one epoch: 100%|██████████| 3750/3750 [00:37<00:00, 100.05it/s]\n"
     ]
    },
    {
     "name": "stdout",
     "output_type": "stream",
     "text": [
      "Epoch 7 - Training loss: 0.009 , Training Accuracy: 0.945\n",
      "\n"
     ]
    },
    {
     "name": "stderr",
     "output_type": "stream",
     "text": [
      "Training for one epoch: 100%|██████████| 3750/3750 [00:37<00:00, 100.68it/s]\n"
     ]
    },
    {
     "name": "stdout",
     "output_type": "stream",
     "text": [
      "Epoch 8 - Training loss: 0.008 , Training Accuracy: 0.952\n",
      "\n"
     ]
    },
    {
     "name": "stderr",
     "output_type": "stream",
     "text": [
      "Training for one epoch: 100%|██████████| 3750/3750 [00:37<00:00, 100.76it/s]\n"
     ]
    },
    {
     "name": "stdout",
     "output_type": "stream",
     "text": [
      "Epoch 9 - Training loss: 0.008 , Training Accuracy: 0.955\n",
      "\n"
     ]
    },
    {
     "data": {
      "image/png": "[encoded data removed]",
      "text/plain": [
       "<Figure size 864x288 with 2 Axes>"
      ]
     },
     "metadata": {
      "needs_background": "light"
     },
     "output_type": "display_data"
    }
   ],
   "source": [
    "image_embed_net = ImageEmbedNet()\n",
    "image_embed_net.load_state_dict(rotation_image_embed_net.state_dict())\n",
    "classify_net = ClassifyNet(10)\n",
    "mnist_classify_model = ImageClassifyModel(image_embed_net, classify_net)\n",
    "train(train_full_dataset, mnist_classify_model, 16, 10)"
   ]
  },
  {
   "cell_type": "code",
   "execution_count": 254,
   "id": "f555cbe6-f17c-4831-8f83-ddb52c2ad530",
   "metadata": {},
   "outputs": [
    {
     "name": "stdout",
     "output_type": "stream",
     "text": [
      "Testing Accuracy: 0.907\n"
     ]
    }
   ],
   "source": [
    "test(test_full_dataset, mnist_classify_model, 16)"
   ]
  },
  {
   "cell_type": "markdown",
   "id": "eef4b2bc-3b30-4e8a-b1a7-2ad160585d50",
   "metadata": {},
   "source": [
    "As we can see, it improves faster and achieves better train and test performance, although the improvement is not huge."
   ]
  },
  {
   "cell_type": "markdown",
   "id": "e84f66b3-102a-4e02-bf73-84e8836bee2a",
   "metadata": {},
   "source": [
    "Now, let's try training with the small dataset again and see how well that works:"
   ]
  },
  {
   "cell_type": "code",
   "execution_count": 256,
   "id": "f47ad424-58f8-4c53-ae7c-1ce7c4ce4aab",
   "metadata": {},
   "outputs": [
    {
     "name": "stderr",
     "output_type": "stream",
     "text": [
      "Training for one epoch: 100%|██████████| 188/188 [00:00<00:00, 207.13it/s]\n"
     ]
    },
    {
     "name": "stdout",
     "output_type": "stream",
     "text": [
      "Epoch 0 - Training loss: 0.145 , Training Accuracy: 0.106\n",
      "\n"
     ]
    },
    {
     "name": "stderr",
     "output_type": "stream",
     "text": [
      "Training for one epoch: 100%|██████████| 188/188 [00:01<00:00, 102.77it/s]\n"
     ]
    },
    {
     "name": "stdout",
     "output_type": "stream",
     "text": [
      "Epoch 1 - Training loss: 0.088 , Training Accuracy: 0.485\n",
      "\n"
     ]
    },
    {
     "name": "stderr",
     "output_type": "stream",
     "text": [
      "Training for one epoch: 100%|██████████| 188/188 [00:01<00:00, 101.17it/s]\n"
     ]
    },
    {
     "name": "stdout",
     "output_type": "stream",
     "text": [
      "Epoch 2 - Training loss: 0.038 , Training Accuracy: 0.781\n",
      "\n"
     ]
    },
    {
     "name": "stderr",
     "output_type": "stream",
     "text": [
      "Training for one epoch: 100%|██████████| 188/188 [00:01<00:00, 99.25it/s] \n"
     ]
    },
    {
     "name": "stdout",
     "output_type": "stream",
     "text": [
      "Epoch 3 - Training loss: 0.029 , Training Accuracy: 0.830\n",
      "\n"
     ]
    },
    {
     "name": "stderr",
     "output_type": "stream",
     "text": [
      "Training for one epoch: 100%|██████████| 188/188 [00:01<00:00, 101.76it/s]\n"
     ]
    },
    {
     "name": "stdout",
     "output_type": "stream",
     "text": [
      "Epoch 4 - Training loss: 0.025 , Training Accuracy: 0.857\n",
      "\n"
     ]
    },
    {
     "name": "stderr",
     "output_type": "stream",
     "text": [
      "Training for one epoch: 100%|██████████| 188/188 [00:01<00:00, 101.82it/s]\n"
     ]
    },
    {
     "name": "stdout",
     "output_type": "stream",
     "text": [
      "Epoch 5 - Training loss: 0.023 , Training Accuracy: 0.865\n",
      "\n"
     ]
    },
    {
     "name": "stderr",
     "output_type": "stream",
     "text": [
      "Training for one epoch: 100%|██████████| 188/188 [00:01<00:00, 100.93it/s]\n"
     ]
    },
    {
     "name": "stdout",
     "output_type": "stream",
     "text": [
      "Epoch 6 - Training loss: 0.021 , Training Accuracy: 0.880\n",
      "\n"
     ]
    },
    {
     "name": "stderr",
     "output_type": "stream",
     "text": [
      "Training for one epoch: 100%|██████████| 188/188 [00:01<00:00, 102.00it/s]\n"
     ]
    },
    {
     "name": "stdout",
     "output_type": "stream",
     "text": [
      "Epoch 7 - Training loss: 0.019 , Training Accuracy: 0.897\n",
      "\n"
     ]
    },
    {
     "name": "stderr",
     "output_type": "stream",
     "text": [
      "Training for one epoch: 100%|██████████| 188/188 [00:01<00:00, 102.12it/s]\n"
     ]
    },
    {
     "name": "stdout",
     "output_type": "stream",
     "text": [
      "Epoch 8 - Training loss: 0.017 , Training Accuracy: 0.909\n",
      "\n"
     ]
    },
    {
     "name": "stderr",
     "output_type": "stream",
     "text": [
      "Training for one epoch: 100%|██████████| 188/188 [00:01<00:00, 99.88it/s] \n"
     ]
    },
    {
     "name": "stdout",
     "output_type": "stream",
     "text": [
      "Epoch 9 - Training loss: 0.016 , Training Accuracy: 0.910\n",
      "\n"
     ]
    },
    {
     "data": {
      "image/png": "[encoded data removed]",
      "text/plain": [
       "<Figure size 864x288 with 2 Axes>"
      ]
     },
     "metadata": {
      "needs_background": "light"
     },
     "output_type": "display_data"
    }
   ],
   "source": [
    "image_embed_net = ImageEmbedNet()\n",
    "image_embed_net.load_state_dict(rotation_image_embed_net.state_dict())\n",
    "classify_net = ClassifyNet(10)\n",
    "mnist_classify_model = ImageClassifyModel(image_embed_net, classify_net)\n",
    "train(train_small_dataset, mnist_classify_model, 16, 10)"
   ]
  },
  {
   "cell_type": "code",
   "execution_count": 257,
   "id": "cf7f7d46-6ff0-4b22-95b2-ce7d901bc397",
   "metadata": {},
   "outputs": [
    {
     "name": "stdout",
     "output_type": "stream",
     "text": [
      "Testing Accuracy: 0.856\n"
     ]
    }
   ],
   "source": [
    "test(test_full_dataset, mnist_classify_model, 16)"
   ]
  },
  {
   "cell_type": "markdown",
   "id": "b287cbcf-c544-49b1-824b-40f7bd4e3dd3",
   "metadata": {},
   "source": [
    "Now we can see that the with the smaller dataset the pretrained features make a lot of difference, as we get a substantial improvement in training and test accuracy! \n",
    "\n",
    "What if we just train for longer? With such a small training dataset, it's possible to achieve perfect accuracy:"
   ]
  },
  {
   "cell_type": "code",
   "execution_count": 258,
   "id": "dbd7012e-9f78-4077-9f6d-715b2cf4c337",
   "metadata": {},
   "outputs": [
    {
     "name": "stderr",
     "output_type": "stream",
     "text": [
      "Training for one epoch: 100%|██████████| 188/188 [00:00<00:00, 207.66it/s]\n"
     ]
    },
    {
     "name": "stdout",
     "output_type": "stream",
     "text": [
      "Epoch 0 - Training loss: 0.146 , Training Accuracy: 0.106\n",
      "\n"
     ]
    },
    {
     "name": "stderr",
     "output_type": "stream",
     "text": [
      "Training for one epoch: 100%|██████████| 188/188 [00:01<00:00, 102.58it/s]\n"
     ]
    },
    {
     "name": "stdout",
     "output_type": "stream",
     "text": [
      "Epoch 1 - Training loss: 0.093 , Training Accuracy: 0.507\n",
      "\n"
     ]
    },
    {
     "name": "stderr",
     "output_type": "stream",
     "text": [
      "Training for one epoch: 100%|██████████| 188/188 [00:01<00:00, 100.00it/s]\n"
     ]
    },
    {
     "name": "stdout",
     "output_type": "stream",
     "text": [
      "Epoch 2 - Training loss: 0.038 , Training Accuracy: 0.780\n",
      "\n"
     ]
    },
    {
     "name": "stderr",
     "output_type": "stream",
     "text": [
      "Training for one epoch: 100%|██████████| 188/188 [00:01<00:00, 102.60it/s]\n"
     ]
    },
    {
     "name": "stdout",
     "output_type": "stream",
     "text": [
      "Epoch 3 - Training loss: 0.029 , Training Accuracy: 0.823\n",
      "\n"
     ]
    },
    {
     "name": "stderr",
     "output_type": "stream",
     "text": [
      "Training for one epoch: 100%|██████████| 188/188 [00:01<00:00, 100.80it/s]\n"
     ]
    },
    {
     "name": "stdout",
     "output_type": "stream",
     "text": [
      "Epoch 4 - Training loss: 0.027 , Training Accuracy: 0.850\n",
      "\n"
     ]
    },
    {
     "name": "stderr",
     "output_type": "stream",
     "text": [
      "Training for one epoch: 100%|██████████| 188/188 [00:01<00:00, 100.55it/s]\n"
     ]
    },
    {
     "name": "stdout",
     "output_type": "stream",
     "text": [
      "Epoch 5 - Training loss: 0.023 , Training Accuracy: 0.874\n",
      "\n"
     ]
    },
    {
     "name": "stderr",
     "output_type": "stream",
     "text": [
      "Training for one epoch: 100%|██████████| 188/188 [00:01<00:00, 101.41it/s]\n"
     ]
    },
    {
     "name": "stdout",
     "output_type": "stream",
     "text": [
      "Epoch 6 - Training loss: 0.021 , Training Accuracy: 0.885\n",
      "\n"
     ]
    },
    {
     "name": "stderr",
     "output_type": "stream",
     "text": [
      "Training for one epoch: 100%|██████████| 188/188 [00:01<00:00, 99.37it/s] \n"
     ]
    },
    {
     "name": "stdout",
     "output_type": "stream",
     "text": [
      "Epoch 7 - Training loss: 0.019 , Training Accuracy: 0.891\n",
      "\n"
     ]
    },
    {
     "name": "stderr",
     "output_type": "stream",
     "text": [
      "Training for one epoch: 100%|██████████| 188/188 [00:01<00:00, 100.47it/s]\n"
     ]
    },
    {
     "name": "stdout",
     "output_type": "stream",
     "text": [
      "Epoch 8 - Training loss: 0.018 , Training Accuracy: 0.899\n",
      "\n"
     ]
    },
    {
     "name": "stderr",
     "output_type": "stream",
     "text": [
      "Training for one epoch: 100%|██████████| 188/188 [00:01<00:00, 101.23it/s]\n"
     ]
    },
    {
     "name": "stdout",
     "output_type": "stream",
     "text": [
      "Epoch 9 - Training loss: 0.016 , Training Accuracy: 0.906\n",
      "\n"
     ]
    },
    {
     "name": "stderr",
     "output_type": "stream",
     "text": [
      "Training for one epoch: 100%|██████████| 188/188 [00:01<00:00, 101.95it/s]\n"
     ]
    },
    {
     "name": "stdout",
     "output_type": "stream",
     "text": [
      "Epoch 10 - Training loss: 0.016 , Training Accuracy: 0.913\n",
      "\n"
     ]
    },
    {
     "name": "stderr",
     "output_type": "stream",
     "text": [
      "Training for one epoch: 100%|██████████| 188/188 [00:01<00:00, 101.75it/s]\n"
     ]
    },
    {
     "name": "stdout",
     "output_type": "stream",
     "text": [
      "Epoch 11 - Training loss: 0.014 , Training Accuracy: 0.920\n",
      "\n"
     ]
    },
    {
     "name": "stderr",
     "output_type": "stream",
     "text": [
      "Training for one epoch: 100%|██████████| 188/188 [00:01<00:00, 102.11it/s]\n"
     ]
    },
    {
     "name": "stdout",
     "output_type": "stream",
     "text": [
      "Epoch 12 - Training loss: 0.013 , Training Accuracy: 0.926\n",
      "\n"
     ]
    },
    {
     "name": "stderr",
     "output_type": "stream",
     "text": [
      "Training for one epoch: 100%|██████████| 188/188 [00:01<00:00, 101.01it/s]\n"
     ]
    },
    {
     "name": "stdout",
     "output_type": "stream",
     "text": [
      "Epoch 13 - Training loss: 0.012 , Training Accuracy: 0.935\n",
      "\n"
     ]
    },
    {
     "name": "stderr",
     "output_type": "stream",
     "text": [
      "Training for one epoch: 100%|██████████| 188/188 [00:01<00:00, 102.05it/s]\n"
     ]
    },
    {
     "name": "stdout",
     "output_type": "stream",
     "text": [
      "Epoch 14 - Training loss: 0.011 , Training Accuracy: 0.941\n",
      "\n"
     ]
    },
    {
     "name": "stderr",
     "output_type": "stream",
     "text": [
      "Training for one epoch: 100%|██████████| 188/188 [00:01<00:00, 100.97it/s]\n"
     ]
    },
    {
     "name": "stdout",
     "output_type": "stream",
     "text": [
      "Epoch 15 - Training loss: 0.010 , Training Accuracy: 0.945\n",
      "\n"
     ]
    },
    {
     "name": "stderr",
     "output_type": "stream",
     "text": [
      "Training for one epoch: 100%|██████████| 188/188 [00:01<00:00, 102.83it/s]\n"
     ]
    },
    {
     "name": "stdout",
     "output_type": "stream",
     "text": [
      "Epoch 16 - Training loss: 0.009 , Training Accuracy: 0.948\n",
      "\n"
     ]
    },
    {
     "name": "stderr",
     "output_type": "stream",
     "text": [
      "Training for one epoch: 100%|██████████| 188/188 [00:01<00:00, 99.90it/s] \n"
     ]
    },
    {
     "name": "stdout",
     "output_type": "stream",
     "text": [
      "Epoch 17 - Training loss: 0.009 , Training Accuracy: 0.950\n",
      "\n"
     ]
    },
    {
     "name": "stderr",
     "output_type": "stream",
     "text": [
      "Training for one epoch: 100%|██████████| 188/188 [00:01<00:00, 100.72it/s]\n"
     ]
    },
    {
     "name": "stdout",
     "output_type": "stream",
     "text": [
      "Epoch 18 - Training loss: 0.008 , Training Accuracy: 0.957\n",
      "\n"
     ]
    },
    {
     "name": "stderr",
     "output_type": "stream",
     "text": [
      "Training for one epoch: 100%|██████████| 188/188 [00:01<00:00, 97.98it/s] \n"
     ]
    },
    {
     "name": "stdout",
     "output_type": "stream",
     "text": [
      "Epoch 19 - Training loss: 0.007 , Training Accuracy: 0.957\n",
      "\n"
     ]
    },
    {
     "name": "stderr",
     "output_type": "stream",
     "text": [
      "Training for one epoch: 100%|██████████| 188/188 [00:01<00:00, 101.66it/s]\n"
     ]
    },
    {
     "name": "stdout",
     "output_type": "stream",
     "text": [
      "Epoch 20 - Training loss: 0.007 , Training Accuracy: 0.962\n",
      "\n"
     ]
    },
    {
     "name": "stderr",
     "output_type": "stream",
     "text": [
      "Training for one epoch: 100%|██████████| 188/188 [00:01<00:00, 101.64it/s]\n"
     ]
    },
    {
     "name": "stdout",
     "output_type": "stream",
     "text": [
      "Epoch 21 - Training loss: 0.006 , Training Accuracy: 0.970\n",
      "\n"
     ]
    },
    {
     "name": "stderr",
     "output_type": "stream",
     "text": [
      "Training for one epoch: 100%|██████████| 188/188 [00:01<00:00, 101.57it/s]\n"
     ]
    },
    {
     "name": "stdout",
     "output_type": "stream",
     "text": [
      "Epoch 22 - Training loss: 0.006 , Training Accuracy: 0.965\n",
      "\n"
     ]
    },
    {
     "name": "stderr",
     "output_type": "stream",
     "text": [
      "Training for one epoch: 100%|██████████| 188/188 [00:01<00:00, 100.21it/s]\n"
     ]
    },
    {
     "name": "stdout",
     "output_type": "stream",
     "text": [
      "Epoch 23 - Training loss: 0.005 , Training Accuracy: 0.977\n",
      "\n"
     ]
    },
    {
     "name": "stderr",
     "output_type": "stream",
     "text": [
      "Training for one epoch: 100%|██████████| 188/188 [00:01<00:00, 100.14it/s]\n"
     ]
    },
    {
     "name": "stdout",
     "output_type": "stream",
     "text": [
      "Epoch 24 - Training loss: 0.005 , Training Accuracy: 0.974\n",
      "\n"
     ]
    },
    {
     "name": "stderr",
     "output_type": "stream",
     "text": [
      "Training for one epoch: 100%|██████████| 188/188 [00:01<00:00, 100.08it/s]\n"
     ]
    },
    {
     "name": "stdout",
     "output_type": "stream",
     "text": [
      "Epoch 25 - Training loss: 0.004 , Training Accuracy: 0.978\n",
      "\n"
     ]
    },
    {
     "name": "stderr",
     "output_type": "stream",
     "text": [
      "Training for one epoch: 100%|██████████| 188/188 [00:01<00:00, 100.16it/s]\n"
     ]
    },
    {
     "name": "stdout",
     "output_type": "stream",
     "text": [
      "Epoch 26 - Training loss: 0.004 , Training Accuracy: 0.978\n",
      "\n"
     ]
    },
    {
     "name": "stderr",
     "output_type": "stream",
     "text": [
      "Training for one epoch: 100%|██████████| 188/188 [00:01<00:00, 100.63it/s]\n"
     ]
    },
    {
     "name": "stdout",
     "output_type": "stream",
     "text": [
      "Epoch 27 - Training loss: 0.004 , Training Accuracy: 0.983\n",
      "\n"
     ]
    },
    {
     "name": "stderr",
     "output_type": "stream",
     "text": [
      "Training for one epoch: 100%|██████████| 188/188 [00:01<00:00, 99.60it/s]\n"
     ]
    },
    {
     "name": "stdout",
     "output_type": "stream",
     "text": [
      "Epoch 28 - Training loss: 0.004 , Training Accuracy: 0.982\n",
      "\n"
     ]
    },
    {
     "name": "stderr",
     "output_type": "stream",
     "text": [
      "Training for one epoch: 100%|██████████| 188/188 [00:01<00:00, 95.14it/s]\n"
     ]
    },
    {
     "name": "stdout",
     "output_type": "stream",
     "text": [
      "Epoch 29 - Training loss: 0.003 , Training Accuracy: 0.985\n",
      "\n"
     ]
    },
    {
     "name": "stderr",
     "output_type": "stream",
     "text": [
      "Training for one epoch: 100%|██████████| 188/188 [00:01<00:00, 102.58it/s]\n"
     ]
    },
    {
     "name": "stdout",
     "output_type": "stream",
     "text": [
      "Epoch 30 - Training loss: 0.003 , Training Accuracy: 0.986\n",
      "\n"
     ]
    },
    {
     "name": "stderr",
     "output_type": "stream",
     "text": [
      "Training for one epoch: 100%|██████████| 188/188 [00:01<00:00, 100.92it/s]\n"
     ]
    },
    {
     "name": "stdout",
     "output_type": "stream",
     "text": [
      "Epoch 31 - Training loss: 0.002 , Training Accuracy: 0.993\n",
      "\n"
     ]
    },
    {
     "name": "stderr",
     "output_type": "stream",
     "text": [
      "Training for one epoch: 100%|██████████| 188/188 [00:01<00:00, 100.18it/s]\n"
     ]
    },
    {
     "name": "stdout",
     "output_type": "stream",
     "text": [
      "Epoch 32 - Training loss: 0.002 , Training Accuracy: 0.993\n",
      "\n"
     ]
    },
    {
     "name": "stderr",
     "output_type": "stream",
     "text": [
      "Training for one epoch: 100%|██████████| 188/188 [00:01<00:00, 101.13it/s]\n"
     ]
    },
    {
     "name": "stdout",
     "output_type": "stream",
     "text": [
      "Epoch 33 - Training loss: 0.002 , Training Accuracy: 0.994\n",
      "\n"
     ]
    },
    {
     "name": "stderr",
     "output_type": "stream",
     "text": [
      "Training for one epoch: 100%|██████████| 188/188 [00:01<00:00, 101.00it/s]\n"
     ]
    },
    {
     "name": "stdout",
     "output_type": "stream",
     "text": [
      "Epoch 34 - Training loss: 0.002 , Training Accuracy: 0.991\n",
      "\n"
     ]
    },
    {
     "name": "stderr",
     "output_type": "stream",
     "text": [
      "Training for one epoch: 100%|██████████| 188/188 [00:01<00:00, 101.89it/s]\n"
     ]
    },
    {
     "name": "stdout",
     "output_type": "stream",
     "text": [
      "Epoch 35 - Training loss: 0.002 , Training Accuracy: 0.993\n",
      "\n"
     ]
    },
    {
     "name": "stderr",
     "output_type": "stream",
     "text": [
      "Training for one epoch: 100%|██████████| 188/188 [00:01<00:00, 99.09it/s] \n"
     ]
    },
    {
     "name": "stdout",
     "output_type": "stream",
     "text": [
      "Epoch 36 - Training loss: 0.001 , Training Accuracy: 0.997\n",
      "\n"
     ]
    },
    {
     "name": "stderr",
     "output_type": "stream",
     "text": [
      "Training for one epoch: 100%|██████████| 188/188 [00:01<00:00, 101.24it/s]\n"
     ]
    },
    {
     "name": "stdout",
     "output_type": "stream",
     "text": [
      "Epoch 37 - Training loss: 0.001 , Training Accuracy: 0.995\n",
      "\n"
     ]
    },
    {
     "name": "stderr",
     "output_type": "stream",
     "text": [
      "Training for one epoch: 100%|██████████| 188/188 [00:01<00:00, 100.00it/s]\n"
     ]
    },
    {
     "name": "stdout",
     "output_type": "stream",
     "text": [
      "Epoch 38 - Training loss: 0.001 , Training Accuracy: 0.995\n",
      "\n"
     ]
    },
    {
     "name": "stderr",
     "output_type": "stream",
     "text": [
      "Training for one epoch: 100%|██████████| 188/188 [00:01<00:00, 100.32it/s]\n"
     ]
    },
    {
     "name": "stdout",
     "output_type": "stream",
     "text": [
      "Epoch 39 - Training loss: 0.001 , Training Accuracy: 0.999\n",
      "\n"
     ]
    },
    {
     "name": "stderr",
     "output_type": "stream",
     "text": [
      "Training for one epoch: 100%|██████████| 188/188 [00:01<00:00, 100.94it/s]\n"
     ]
    },
    {
     "name": "stdout",
     "output_type": "stream",
     "text": [
      "Epoch 40 - Training loss: 0.001 , Training Accuracy: 1.000\n",
      "\n"
     ]
    },
    {
     "name": "stderr",
     "output_type": "stream",
     "text": [
      "Training for one epoch: 100%|██████████| 188/188 [00:01<00:00, 102.55it/s]\n"
     ]
    },
    {
     "name": "stdout",
     "output_type": "stream",
     "text": [
      "Epoch 41 - Training loss: 0.000 , Training Accuracy: 0.999\n",
      "\n"
     ]
    },
    {
     "name": "stderr",
     "output_type": "stream",
     "text": [
      "Training for one epoch: 100%|██████████| 188/188 [00:01<00:00, 100.61it/s]\n"
     ]
    },
    {
     "name": "stdout",
     "output_type": "stream",
     "text": [
      "Epoch 42 - Training loss: 0.001 , Training Accuracy: 0.992\n",
      "\n"
     ]
    },
    {
     "name": "stderr",
     "output_type": "stream",
     "text": [
      "Training for one epoch: 100%|██████████| 188/188 [00:01<00:00, 101.52it/s]\n"
     ]
    },
    {
     "name": "stdout",
     "output_type": "stream",
     "text": [
      "Epoch 43 - Training loss: 0.002 , Training Accuracy: 0.994\n",
      "\n"
     ]
    },
    {
     "name": "stderr",
     "output_type": "stream",
     "text": [
      "Training for one epoch: 100%|██████████| 188/188 [00:01<00:00, 99.80it/s] \n"
     ]
    },
    {
     "name": "stdout",
     "output_type": "stream",
     "text": [
      "Epoch 44 - Training loss: 0.001 , Training Accuracy: 0.995\n",
      "\n"
     ]
    },
    {
     "name": "stderr",
     "output_type": "stream",
     "text": [
      "Training for one epoch: 100%|██████████| 188/188 [00:01<00:00, 100.46it/s]\n"
     ]
    },
    {
     "name": "stdout",
     "output_type": "stream",
     "text": [
      "Epoch 45 - Training loss: 0.000 , Training Accuracy: 1.000\n",
      "\n"
     ]
    },
    {
     "name": "stderr",
     "output_type": "stream",
     "text": [
      "Training for one epoch: 100%|██████████| 188/188 [00:01<00:00, 101.41it/s]\n"
     ]
    },
    {
     "name": "stdout",
     "output_type": "stream",
     "text": [
      "Epoch 46 - Training loss: 0.000 , Training Accuracy: 1.000\n",
      "\n"
     ]
    },
    {
     "name": "stderr",
     "output_type": "stream",
     "text": [
      "Training for one epoch: 100%|██████████| 188/188 [00:01<00:00, 101.81it/s]\n"
     ]
    },
    {
     "name": "stdout",
     "output_type": "stream",
     "text": [
      "Epoch 47 - Training loss: 0.000 , Training Accuracy: 1.000\n",
      "\n"
     ]
    },
    {
     "name": "stderr",
     "output_type": "stream",
     "text": [
      "Training for one epoch: 100%|██████████| 188/188 [00:01<00:00, 99.72it/s] \n"
     ]
    },
    {
     "name": "stdout",
     "output_type": "stream",
     "text": [
      "Epoch 48 - Training loss: 0.000 , Training Accuracy: 1.000\n",
      "\n"
     ]
    },
    {
     "name": "stderr",
     "output_type": "stream",
     "text": [
      "Training for one epoch: 100%|██████████| 188/188 [00:01<00:00, 100.93it/s]\n"
     ]
    },
    {
     "name": "stdout",
     "output_type": "stream",
     "text": [
      "Epoch 49 - Training loss: 0.000 , Training Accuracy: 1.000\n",
      "\n"
     ]
    },
    {
     "data": {
      "image/png": "[encoded data removed]",
      "text/plain": [
       "<Figure size 864x288 with 2 Axes>"
      ]
     },
     "metadata": {
      "needs_background": "light"
     },
     "output_type": "display_data"
    }
   ],
   "source": [
    "image_embed_net = ImageEmbedNet()\n",
    "image_embed_net.load_state_dict(rotation_image_embed_net.state_dict())\n",
    "classify_net = ClassifyNet(10)\n",
    "mnist_classify_model = ImageClassifyModel(image_embed_net, classify_net)\n",
    "train(train_small_dataset, mnist_classify_model, 16, 50)"
   ]
  },
  {
   "cell_type": "code",
   "execution_count": 259,
   "id": "73de5aef-0ae8-4abd-8c91-1a6c6a93f066",
   "metadata": {},
   "outputs": [
    {
     "name": "stdout",
     "output_type": "stream",
     "text": [
      "Testing Accuracy: 0.859\n"
     ]
    }
   ],
   "source": [
    "test(test_full_dataset, mnist_classify_model, 16)"
   ]
  },
  {
   "cell_type": "markdown",
   "id": "fcdae8a0-c492-45f8-ac4f-374f1c4d930e",
   "metadata": {},
   "source": [
    "As we can see, while training for longer on the small dataset gets perfect train accuracy, the test accuracy is no better than what we got before. Part of the benefit of having pre-trained features is greater robustness to this sort of overfitting."
   ]
  },
  {
   "cell_type": "markdown",
   "id": "b4779dd2-3ac9-498f-b842-e5e0cffa3749",
   "metadata": {},
   "source": [
    "# Conclusion\n",
    "\n",
    "That's it! As noted in the PDF, you just need to include some of the images from above in your written report, and upload your code to the autograder assignment as usual."
   ]
  }
 ],
 "metadata": {
  "kernelspec": {
   "display_name": "Python 3 (ipykernel)",
   "language": "python",
   "name": "python3"
  },
  "language_info": {
   "codemirror_mode": {
    "name": "ipython",
    "version": 3
   },
   "file_extension": ".py",
   "mimetype": "text/x-python",
   "name": "python",
   "nbconvert_exporter": "python",
   "pygments_lexer": "ipython3",
   "version": "3.7.7"
  }
 },
 "nbformat": 4,
 "nbformat_minor": 5
}
