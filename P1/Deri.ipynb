{
 "cells": [
  {
   "cell_type": "code",
   "execution_count": 216,
   "id": "52ef01cc-f896-45bf-9ada-ce9bc3c5fd8b",
   "metadata": {},
   "outputs": [],
   "source": [
    "import numpy as np\n",
    "\"\"\"\n",
    "Computes camera matrix given image and real-world coordinates.\n",
    "\n",
    "    Args:\n",
    "        real_XY: Each row corresponds to an actual point on the 2D plane.\n",
    "        front_image: Each row is the pixel location in the front image (Z=0).\n",
    "        back_image: Each row is the pixel location in the back image (Z=150).\n",
    "    Returns:\n",
    "        camera_matrix: The calibrated camera matrix (3x4 matrix).\n",
    "\"\"\"\n",
    "\"I guess such corresponding points are hand-crafted\"\n",
    "real_XY = np.load('real_XY.npy')\n",
    "front_image = np.load('front_image.npy')\n",
    "back_image = np.load('back_image.npy')"
   ]
  },
  {
   "cell_type": "markdown",
   "id": "3e8ee959-e880-423a-abe6-af0f95d189ae",
   "metadata": {},
   "source": [
    "#### 1. Perspective Camera Calibration\n",
    "\n",
    "Deal with 11 DFs camera matrix with 12 parameters in total, solved through constraint minimization problem with SVD.\n",
    "\n",
    "#### 2. Affine Camera Calibration\n",
    "\n",
    "Deal with 8 DFs camera matrix with 8 parameters in total, solved with LSE on linear system."
   ]
  },
  {
   "cell_type": "code",
   "execution_count": 167,
   "id": "0f6b3486-6cde-4fbe-8da5-7f1387e9694b",
   "metadata": {},
   "outputs": [],
   "source": [
    "# world coordinates: (M,3), image_coordinates: (M,2)\n",
    "def calibrate_perspective_camera(world_coordinates, image_coordinates):\n",
    "    wc,ic = world_coordinates, image_coordinates\n",
    "    wc = np.pad(wc,[(0,0),(0,1)],mode='constant',constant_values=1.) # (M,4)\n",
    "    pstack = np.repeat(wc, repeats=2, axis=0) # (2M,4)\n",
    "    # scale even & odd rows with different values\n",
    "    v1 = np.array([1,0])\n",
    "    tmp1 = np.tile(v1,wc.shape[0])[:,np.newaxis] * pstack # (2M,4)\n",
    "    v2 = np.array([0,1])\n",
    "    tmp2 = np.tile(v2,wc.shape[0])[:,np.newaxis] * pstack # (2M,4)\n",
    "    pix = ic.reshape(-1,1) # (2M,1)    \n",
    "    tmp3 = - pix * pstack # (2M,4)\n",
    "    P = np.concatenate((tmp1,tmp2,tmp3),axis=1) # (2M,12)\n",
    "    # optimization problem solved with Singular Value Decomposition\n",
    "    u,s,vh = np.linalg.svd(P)\n",
    "    # take last column of V, or the last row of V.T: (12,)\n",
    "    sol = vh[-1]\n",
    "    # construct camera matrix M: (3,4)\n",
    "    M = sol.reshape(3,4)\n",
    "    return M\n",
    "\n",
    "# affine camera model: Standard Least Squares\n",
    "def calibrate_affine_camera(world_coordinates, image_coordinates):\n",
    "    wc,ic = world_coordinates, image_coordinates\n",
    "    wc = np.pad(wc,[(0,0),(0,1)],mode='constant',constant_values=1.) # (M,4)\n",
    "    pstack = np.repeat(wc, repeats=2, axis=0) # (2M,4)\n",
    "    # scale even & odd rows with different values\n",
    "    v1 = np.array([1,0])\n",
    "    tmp1 = np.tile(v1,wc.shape[0])[:,np.newaxis] * pstack # (2M,4)\n",
    "    v2 = np.array([0,1])\n",
    "    tmp2 = np.tile(v2,wc.shape[0])[:,np.newaxis] * pstack # (2M,4)\n",
    "    P = np.concatenate((tmp1,tmp2),axis=1) # (2M,8)\n",
    "    b = image_coordinates.reshape(-1,1) # (2M,1)\n",
    "    m_ls = np.linalg.inv(P.T@P)@(P.T)@b # (8,1)\n",
    "    # construct affine camera matrix\n",
    "    M12 = m_ls.reshape(2,4) # (2,4)\n",
    "    M3 = np.array([[0.,0.,0.,1.]]) # (1,4)\n",
    "    M = np.concatenate((M12,M3),axis=0)\n",
    "    return M"
   ]
  },
  {
   "cell_type": "markdown",
   "id": "608de8ab-0619-4735-aad1-dec74bdef77f",
   "metadata": {},
   "source": [
    "To generalize the usage, specify world_coordinates (-1,3) and image_coordinates (-1,2) for application of above function."
   ]
  },
  {
   "cell_type": "code",
   "execution_count": 213,
   "id": "06ef7b5c-e280-491f-8a94-c0c6f1f922da",
   "metadata": {},
   "outputs": [
    {
     "name": "stdout",
     "output_type": "stream",
     "text": [
      "Calibrated Perspective Camera model is:\n",
      " [[ 3.86081985e-03 -1.14839115e-04  8.75272791e-04  9.46068598e-01]\n",
      " [ 3.42814033e-04  3.92515324e-03 -7.51681648e-04  3.23835234e-01]\n",
      " [-6.97426063e-08  8.23266292e-08 -1.33752672e-08  7.29214554e-03]]\n",
      "\n",
      " Calibrated Affine Camera model is:\n",
      " [[ 5.31276507e-01 -1.80886074e-02  1.20509667e-01  1.29720641e+02]\n",
      " [ 4.84975447e-02  5.36366401e-01 -1.02675222e-01  4.43879607e+01]\n",
      " [ 0.00000000e+00  0.00000000e+00  0.00000000e+00  1.00000000e+00]]\n"
     ]
    }
   ],
   "source": [
    "# world coordinate for first imageL (N,3)\n",
    "wc1 = np.pad(real_XY,[(0,0),(0,1)],mode='constant',constant_values=0.)\n",
    "# world coordinate for second image: (N,3)\n",
    "wc2 = np.pad(real_XY,[(0,0),(0,1)],mode='constant',constant_values=150.)\n",
    "# world coordinates (3D) and image coordinate (2D) construction\n",
    "world_coordinates = np.concatenate((wc1,wc2),axis=0) # (2N,3)\n",
    "image_coordinates = np.concatenate((front_image,back_image)) # (2N,2)\n",
    "\n",
    "# fit the perspective camera model\n",
    "M0 = calibrate_perspective_camera(world_coordinates, image_coordinates)\n",
    "M1 = calibrate_affine_camera(world_coordinates, image_coordinates)\n",
    "print('Calibrated Perspective Camera model is:\\n',M0)\n",
    "print('\\n Calibrated Affine Camera model is:\\n',M1)"
   ]
  },
  {
   "cell_type": "markdown",
   "id": "db458605-de06-4968-99bb-1c18e82424e8",
   "metadata": {},
   "source": [
    "#### 3. RMS Error"
   ]
  },
  {
   "cell_type": "code",
   "execution_count": 214,
   "id": "6795a17a-7010-4a48-8e44-a537f437f7a1",
   "metadata": {},
   "outputs": [
    {
     "name": "stdout",
     "output_type": "stream",
     "text": [
      "RMS for calibrated perspective camera model is: 0.9916933372299293\n",
      "RMS for calibrated affine camera model is: 0.9938304832798437\n"
     ]
    }
   ],
   "source": [
    "def rms_error(world_coordinates, image_coordinates, camera_matrx):\n",
    "    wc,ic,M = world_coordinates, image_coordinates, camera_matrx\n",
    "    # obtain predicted image coordinate\n",
    "    wc_proj = np.pad(wc,[(0,0),(0,1)],mode='constant',constant_values=1) # (M,4)\n",
    "    pred_ic_proj = (M @ wc_proj[:,:,np.newaxis])[:,:,0] # (M,3)\n",
    "    pred_ic = pred_ic_proj[:,:2]/pred_ic_proj[:,2:] # (M,2)\n",
    "    # compute RMS\n",
    "    sq_diff = np.sum((pred_ic - ic)**2,axis=1)\n",
    "    rms = np.sqrt(np.mean(sq_diff))\n",
    "    return rms\n",
    "\n",
    "print('RMS for calibrated perspective camera model is:',rms_error(world_coordinates, image_coordinates, M0))\n",
    "print('RMS for calibrated affine camera model is:',rms_error(world_coordinates, image_coordinates, M1))"
   ]
  },
  {
   "cell_type": "markdown",
   "id": "51d8dd71-503f-4c02-86f6-3e9565632a37",
   "metadata": {},
   "source": [
    "#### 4. Compute Vanishing points"
   ]
  },
  {
   "cell_type": "code",
   "execution_count": 455,
   "id": "29a0da3c-431a-4c82-9ea3-db8f8f95c92c",
   "metadata": {},
   "outputs": [],
   "source": [
    "# input four points: pts[0]-pts[1] form one parallel line, pts[2]-pts[3] another\n",
    "def compute_vanishing_point(pts):\n",
    "    a1 = (pts[1] - pts[0])[::-1] * np.array([1,-1])\n",
    "    a2 = (pts[3] - pts[2])[::-1] * np.array([1,-1])\n",
    "    c1 = np.sum(pts[0]*a1)\n",
    "    c2 = np.sum(pts[2]*a2)\n",
    "    v = np.linalg.solve(np.stack((a1,a2)), np.stack((c1,c2)))\n",
    "    return v\n",
    "\n",
    "def compute_K_from_vanishing_points(vanishing_points):\n",
    "    v1,v2,v3 = vanishing_points\n",
    "    A1 = np.array([v1[0]*v2[0]+v1[1]*v2[1],v1[0]+v2[0],v1[1]+v2[1],1])\n",
    "    A2 = np.array([v1[0]*v3[0]+v1[1]*v3[1],v1[0]+v3[0],v1[1]+v3[1],1])\n",
    "    A3 = np.array([v2[0]*v3[0]+v2[1]*v3[1],v2[0]+v3[0],v2[1]+v3[1],1])\n",
    "    A = np.vstack((A1,A2,A3))\n",
    "    # solve for w', the wrongly scaled solution\n",
    "    u,s,vt = np.linalg.svd(A)\n",
    "    w = vt[-1]\n",
    "    # construct omega from w values\n",
    "    omega = np.array([[w[0],0,w[1]],\n",
    "                      [0,w[0],w[2]],\n",
    "                      [w[1],w[2],w[3]]])\n",
    "    # Cholesky decomposition to get wrongly scaled intrinsic matrix K\n",
    "    KT_inv = np.linalg.cholesky(omega)\n",
    "    K = np.linalg.inv(KT_inv.T)\n",
    "    # normalized K to the correctly scaled, thanks to the fact that K[2,2]=1\n",
    "    K /= K[2,2]\n",
    "    return K"
   ]
  },
  {
   "cell_type": "code",
   "execution_count": 448,
   "id": "29997ceb-a52c-42d8-845a-ac6b57e30742",
   "metadata": {},
   "outputs": [
    {
     "data": {
      "text/latex": [
       "$\\displaystyle \\left[\\begin{matrix}v_{1x} v_{2x} + v_{1y} v_{2y} & v_{1x} + v_{2x} & v_{1y} + v_{2y} & 1\\\\v_{1x} v_{3x} + v_{1y} v_{3y} & v_{1x} + v_{3x} & v_{1y} + v_{3y} & 1\\\\v_{2x} v_{3x} + v_{2y} v_{3y} & v_{2x} + v_{3x} & v_{2y} + v_{3y} & 1\\end{matrix}\\right]$"
      ],
      "text/plain": [
       "⎡v_{1x}⋅v_{2x} + v_{1y}⋅v_{2y}  v_{1x} + v_{2x}  v_{1y} + v_{2y}  1⎤\n",
       "⎢                                                                  ⎥\n",
       "⎢v_{1x}⋅v_{3x} + v_{1y}⋅v_{3y}  v_{1x} + v_{3x}  v_{1y} + v_{3y}  1⎥\n",
       "⎢                                                                  ⎥\n",
       "⎣v_{2x}⋅v_{3x} + v_{2y}⋅v_{3y}  v_{2x} + v_{3x}  v_{2y} + v_{3y}  1⎦"
      ]
     },
     "execution_count": 448,
     "metadata": {},
     "output_type": "execute_result"
    }
   ],
   "source": [
    "A"
   ]
  },
  {
   "cell_type": "markdown",
   "id": "46422698-9340-4223-949a-e7b75596f04a",
   "metadata": {},
   "source": [
    "#### Interesting Automatic Algebra\n",
    "Below cell uses Sympy to verify the expression of $\\omega$ indeed admits the forms given in the lecture note.\n",
    "\n",
    "1. Verification of expression of $\\omega$ can be viewed in $(w1,w2,w3,w4)$ sense"
   ]
  },
  {
   "cell_type": "code",
   "execution_count": 422,
   "id": "e21bdc53-a3ec-4904-9a4a-0f9e1b29ca1b",
   "metadata": {},
   "outputs": [
    {
     "data": {
      "text/latex": [
       "$\\displaystyle \\left[\\begin{matrix}\\frac{1}{f^{2}} & 0 & - \\frac{t_{x}}{f^{2}}\\\\0 & \\frac{1}{f^{2}} & - \\frac{t_{y}}{f^{2}}\\\\- \\frac{t_{x}}{f^{2}} & - \\frac{t_{y}}{f^{2}} & \\frac{f^{2} + t_{x}^{2} + t_{y}^{2}}{f^{2}}\\end{matrix}\\right]$"
      ],
      "text/plain": [
       "⎡ 1                -tₓ       ⎤\n",
       "⎢ ──     0         ────      ⎥\n",
       "⎢  2                 2       ⎥\n",
       "⎢ f                 f        ⎥\n",
       "⎢                            ⎥\n",
       "⎢       1          -t_y      ⎥\n",
       "⎢ 0     ──         ─────     ⎥\n",
       "⎢        2            2      ⎥\n",
       "⎢       f            f       ⎥\n",
       "⎢                            ⎥\n",
       "⎢              2     2      2⎥\n",
       "⎢-tₓ   -t_y   f  + tₓ  + t_y ⎥\n",
       "⎢────  ─────  ───────────────⎥\n",
       "⎢  2      2           2      ⎥\n",
       "⎣ f      f           f       ⎦"
      ]
     },
     "execution_count": 422,
     "metadata": {},
     "output_type": "execute_result"
    }
   ],
   "source": [
    "# verification of the omega expression\n",
    "import sympy as sym\n",
    "\n",
    "sym.init_printing()\n",
    "sf,stx,sty = sym.symbols('f t_x t_y')\n",
    "K = sym.Matrix([[sf,0,stx],\n",
    "                [0,sf,sty],\n",
    "                [0, 0, 1]])\n",
    "omega = (K @ K.T).inv()\n",
    "sym.simplify(omega)"
   ]
  },
  {
   "cell_type": "code",
   "execution_count": 430,
   "id": "83640e1f-600e-47b0-8b79-250e67bb881f",
   "metadata": {},
   "outputs": [
    {
     "data": {
      "image/png": "[encoded data removed]",
      "text/latex": [
       "$\\displaystyle \\frac{t_{x}^{2} + t_{y}^{2} + \\left(f^{2} + t_{x}^{2} + t_{y}^{2}\\right)^{2} + 1}{f^{4}}$"
      ],
      "text/plain": [
       "                              2    \n",
       "  2      2   ⎛ 2     2      2⎞     \n",
       "tₓ  + t_y  + ⎝f  + tₓ  + t_y ⎠  + 1\n",
       "───────────────────────────────────\n",
       "                  4                \n",
       "                 f                 "
      ]
     },
     "execution_count": 430,
     "metadata": {},
     "output_type": "execute_result"
    }
   ],
   "source": [
    "# the TRUE ||w||**2 is\n",
    "wscale = omega[0,0]**2 + omega[0,2]**2 + omega[1,2]**2 + omega[2,2]**2\n",
    "sym.simplify(wscale)"
   ]
  },
  {
   "cell_type": "code",
   "execution_count": 428,
   "id": "776e3494-51fa-4d4f-b2ad-2e0609004673",
   "metadata": {},
   "outputs": [
    {
     "data": {
      "image/png": "[encoded data removed]",
      "text/latex": [
       "$\\displaystyle \\frac{1}{f^{4}}$"
      ],
      "text/plain": [
       "1 \n",
       "──\n",
       " 4\n",
       "f "
      ]
     },
     "execution_count": 428,
     "metadata": {},
     "output_type": "execute_result"
    }
   ],
   "source": [
    "# the determinant of the TRUE omega matrix is given as\n",
    "omega.det()"
   ]
  },
  {
   "cell_type": "code",
   "execution_count": 447,
   "id": "2b24757e-7164-497e-8bd8-15269f2b386d",
   "metadata": {
    "tags": []
   },
   "outputs": [
    {
     "data": {
      "text/latex": [
       "$\\displaystyle \\left[\\begin{matrix}v_{1x} v_{2x} + v_{1y} v_{2y} & v_{1x} + v_{2x} & v_{1y} + v_{2y} & 1\\\\v_{1x} v_{3x} + v_{1y} v_{3y} & v_{1x} + v_{3x} & v_{1y} + v_{3y} & 1\\\\v_{2x} v_{3x} + v_{2y} v_{3y} & v_{2x} + v_{3x} & v_{2y} + v_{3y} & 1\\end{matrix}\\right]$"
      ],
      "text/plain": [
       "⎡v_{1x}⋅v_{2x} + v_{1y}⋅v_{2y}  v_{1x} + v_{2x}  v_{1y} + v_{2y}  1⎤\n",
       "⎢                                                                  ⎥\n",
       "⎢v_{1x}⋅v_{3x} + v_{1y}⋅v_{3y}  v_{1x} + v_{3x}  v_{1y} + v_{3y}  1⎥\n",
       "⎢                                                                  ⎥\n",
       "⎣v_{2x}⋅v_{3x} + v_{2y}⋅v_{3y}  v_{2x} + v_{3x}  v_{2y} + v_{3y}  1⎦"
      ]
     },
     "execution_count": 447,
     "metadata": {},
     "output_type": "execute_result"
    }
   ],
   "source": [
    "\"We can use SymPy to compute the matrix A directly\"\n",
    "\"We can choose to use such expression to construct the function accordingly\"\n",
    "v1x,v1y,v2x,v2y,v3x,v3y = sym.symbols('v_{1x} v_{1y} v_{2x} v_{2y} v_{3x} v_{3y}')\n",
    "v1 = sym.Matrix([[v1x,v1y,1]]).T\n",
    "v2 = sym.Matrix([[v2x,v2y,1]]).T\n",
    "v3 = sym.Matrix([[v3x,v3y,1]]).T\n",
    "\n",
    "w1,w2,w3,w4 = sym.symbols('w_1 w_2 w_3 w_4')\n",
    "omega = sym.Matrix([[w1,0,w2],\n",
    "                    [0,w1,w3],\n",
    "                    [w2,w3,w4]])\n",
    "\n",
    "eq1 = v1.T @ omega @ v2 \n",
    "eq2 = v1.T @ omega @ v3\n",
    "eq3 = v2.T @ omega @ v3\n",
    "\n",
    "A1,b1 = sym.linear_eq_to_matrix(eq1,[w1,w2,w3,w4])\n",
    "A2,b2 = sym.linear_eq_to_matrix(eq2,[w1,w2,w3,w4])\n",
    "A3,b3 = sym.linear_eq_to_matrix(eq3,[w1,w2,w3,w4])\n",
    "\n",
    "A = sym.Matrix.vstack(A1,A2,A3)\n",
    "b = sym.Matrix.vstack(b1,b2,b3)\n",
    "sym.linsolve((A,b),[w1,w2,w3,w4])\n",
    "A"
   ]
  },
  {
   "cell_type": "markdown",
   "id": "2ac3a9e6-a99a-42e0-aa0e-52c61ddb735a",
   "metadata": {},
   "source": [
    "Automatically doing algebra to obtain A"
   ]
  },
  {
   "cell_type": "code",
   "execution_count": 433,
   "id": "a2aabfcd-9980-4002-b9bb-3690b1f88973",
   "metadata": {},
   "outputs": [],
   "source": [
    "\"\"\"\n",
    "This cell is used to conduct linear algebra automatically with SymPy\n",
    "Solve for v_{i}.T @ omega @ v_{j} = 0, (i,j) = {(1,2),(1,3),(2,3)}\n",
    "Where omega is characterized with w1,w2,w3,w4 (this is verified using inv(KK.T) expression)\n",
    "We can equivalently write Aw=0, and this cell solve for A algebraically \n",
    "and return the resulting A as a numpy array\n",
    "\"\"\"\n",
    "\n",
    "v1x,v1y,v2x,v2y,v3x,v3y = sym.symbols('v_{1x} v_{1y} v_{2x} v_{2y} v_{3x} v_{3y}')\n",
    "v1 = sym.Matrix([[v1x,v1y,1]]).T\n",
    "v2 = sym.Matrix([[v2x,v2y,1]]).T\n",
    "v3 = sym.Matrix([[v3x,v3y,1]]).T\n",
    "\n",
    "v1_ = v1.subs([(v1x,v1a[0]),(v1y,v1a[1])])\n",
    "v2_ = v2.subs([(v2x,v2a[0]),(v2y,v2a[1])])\n",
    "v3_ = v3.subs([(v3x,v3a[0]),(v3y,v3a[1])])\n",
    "\n",
    "w1,w2,w3,w4 = sym.symbols('w_1 w_2 w_3 w_4')\n",
    "omega = sym.Matrix([[w1,0,w2],\n",
    "                    [0,w1,w3],\n",
    "                    [w2,w3,w4]])\n",
    "\n",
    "eq1 = v1_.T @ omega @ v2_ \n",
    "eq2 = v1_.T @ omega @ v3_\n",
    "eq3 = v2_.T @ omega @ v3_\n",
    "\n",
    "A1,b1 = sym.linear_eq_to_matrix(eq1,[w1,w2,w3,w4])\n",
    "A2,b2 = sym.linear_eq_to_matrix(eq2,[w1,w2,w3,w4])\n",
    "A3,b3 = sym.linear_eq_to_matrix(eq3,[w1,w2,w3,w4])\n",
    "\n",
    "A = sym.Matrix.vstack(A1,A2,A3)\n",
    "b = sym.Matrix.vstack(b1,b2,b3)\n",
    "d = sym.linsolve((A,b),[w1,w2,w3,w4])\n",
    "\n",
    "A = np.array(A, dtype=float)"
   ]
  },
  {
   "cell_type": "code",
   "execution_count": 434,
   "id": "c977a169-77cf-4777-a08e-58507b0f52c4",
   "metadata": {},
   "outputs": [
    {
     "data": {
      "text/plain": [
       "array([[-4.60869927e+06,  5.79590565e+03, -8.20305482e+02,\n",
       "         1.00000000e+00],\n",
       "       [ 3.32944234e+06,  7.70783104e+03,  5.77453686e+03,\n",
       "         1.00000000e+00],\n",
       "       [-1.72818047e+06,  4.69292338e+02,  6.32569736e+03,\n",
       "         1.00000000e+00]])"
      ]
     },
     "execution_count": 434,
     "metadata": {},
     "output_type": "execute_result"
    }
   ],
   "source": [
    "A"
   ]
  },
  {
   "cell_type": "code",
   "execution_count": 446,
   "id": "0836f026-390e-492e-8248-852aa5fe0660",
   "metadata": {},
   "outputs": [
    {
     "data": {
      "text/plain": [
       "array([[2.59416985e+03, 0.00000000e+00, 7.73289548e+02],\n",
       "       [0.00000000e+00, 2.59416985e+03, 9.79503278e+02],\n",
       "       [0.00000000e+00, 0.00000000e+00, 1.00000000e+00]])"
      ]
     },
     "execution_count": 446,
     "metadata": {},
     "output_type": "execute_result"
    }
   ],
   "source": [
    "# solve for w', the wrongly scaled solution\n",
    "u,s,vt = np.linalg.svd(A)\n",
    "w = vt[-1]\n",
    "# construct omega from w values\n",
    "omega = np.array([[w[0],0,w[1]],\n",
    "                  [0,w[0],w[2]],\n",
    "                  [w[1],w[2],w[3]]])\n",
    "# Cholesky decomposition to get wrongly scaled intrinsic matrix K\n",
    "KT_inv = np.linalg.cholesky(omega)\n",
    "K = np.linalg.inv(KT_inv.T)\n",
    "# normalized K to the correctly scaled, thanks to the fact that K[2,2]=1\n",
    "K /= K[2,2]\n",
    "K"
   ]
  },
  {
   "cell_type": "code",
   "execution_count": 432,
   "id": "d0aee905-d4f4-4e18-a0be-fa8459377140",
   "metadata": {},
   "outputs": [],
   "source": [
    "# Part A: Compute vanishing points.\n",
    "v1a = compute_vanishing_point(np.array(\n",
    "        [[674, 1826], [2456, 1060], [1094, 1340], [1774, 1086]]))\n",
    "v2a = compute_vanishing_point(np.array(\n",
    "        [[674, 1826], [126, 1056], [2456, 1060], [1940, 866]]))\n",
    "v3a = compute_vanishing_point(np.array(\n",
    "        [[1094, 1340], [1080, 598], [1774, 1086], [1840, 478]]))\n",
    "\n",
    "v1b = compute_vanishing_point(np.array(\n",
    "        [[314, 1912], [2060, 1040], [750, 1378], [1438, 1094]]))\n",
    "v2b = compute_vanishing_point(np.array(\n",
    "        [[314, 1912], [36, 1578], [2060, 1040], [1598, 882]]))\n",
    "v3b = compute_vanishing_point(np.array(\n",
    "        [[750, 1378], [714, 614], [1438, 1094], [1474, 494]]))\n",
    "\n",
    "# Part B: Compute the camera matrix.\n",
    "vanishing_points = [v1a, v2a, v3a]"
   ]
  },
  {
   "cell_type": "code",
   "execution_count": 374,
   "id": "c290b099-bcf7-4820-8a32-eed427a50b50",
   "metadata": {},
   "outputs": [
    {
     "data": {
      "text/plain": [
       "array([6517.22217664, -685.73298951])"
      ]
     },
     "execution_count": 374,
     "metadata": {},
     "output_type": "execute_result"
    }
   ],
   "source": [
    "v1a"
   ]
  },
  {
   "cell_type": "code",
   "execution_count": 375,
   "id": "87e875fa-c7e2-44e8-9c31-129e22c835f5",
   "metadata": {},
   "outputs": [
    {
     "data": {
      "text/plain": [
       "array([-721.31652738, -134.57249285])"
      ]
     },
     "execution_count": 375,
     "metadata": {},
     "output_type": "execute_result"
    }
   ],
   "source": [
    "v2a"
   ]
  },
  {
   "cell_type": "code",
   "execution_count": 376,
   "id": "9a77eb83-e6fb-44f9-846a-27a60e87f0d2",
   "metadata": {},
   "outputs": [
    {
     "data": {
      "text/plain": [
       "array([1190.60886508, 6460.269849  ])"
      ]
     },
     "execution_count": 376,
     "metadata": {},
     "output_type": "execute_result"
    }
   ],
   "source": [
    "v3a"
   ]
  },
  {
   "cell_type": "code",
   "execution_count": null,
   "id": "2440eb93-7bed-4420-8667-8c77e589aac5",
   "metadata": {},
   "outputs": [],
   "source": []
  }
 ],
 "metadata": {
  "kernelspec": {
   "display_name": "Python 3 (ipykernel)",
   "language": "python",
   "name": "python3"
  },
  "language_info": {
   "codemirror_mode": {
    "name": "ipython",
    "version": 3
   },
   "file_extension": ".py",
   "mimetype": "text/x-python",
   "name": "python",
   "nbconvert_exporter": "python",
   "pygments_lexer": "ipython3",
   "version": "3.7.7"
  }
 },
 "nbformat": 4,
 "nbformat_minor": 5
}
