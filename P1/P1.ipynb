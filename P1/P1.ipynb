{
 "cells": [
  {
   "cell_type": "code",
   "execution_count": 2,
   "id": "52ef01cc-f896-45bf-9ada-ce9bc3c5fd8b",
   "metadata": {},
   "outputs": [],
   "source": [
    "import numpy as np\n",
    "\"\"\"\n",
    "Computes camera matrix given image and real-world coordinates.\n",
    "\n",
    "    Args:\n",
    "        real_XY: Each row corresponds to an actual point on the 2D plane.\n",
    "        front_image: Each row is the pixel location in the front image (Z=0).\n",
    "        back_image: Each row is the pixel location in the back image (Z=150).\n",
    "    Returns:\n",
    "        camera_matrix: The calibrated camera matrix (3x4 matrix).\n",
    "\"\"\"\n",
    "\"I guess such corresponding points are hand-crafted\"\n",
    "real_XY = np.load('real_XY.npy')\n",
    "front_image = np.load('front_image.npy')\n",
    "back_image = np.load('back_image.npy')"
   ]
  },
  {
   "cell_type": "markdown",
   "id": "3e8ee959-e880-423a-abe6-af0f95d189ae",
   "metadata": {},
   "source": [
    "#### 1. Perspective Camera Calibration\n",
    "\n",
    "Deal with 11 DFs camera matrix with 12 parameters in total, solved through constraint minimization problem with SVD.\n",
    "\n",
    "#### 2. Affine Camera Calibration\n",
    "\n",
    "Deal with 8 DFs camera matrix with 8 parameters in total, solved with LSE on linear system."
   ]
  },
  {
   "cell_type": "code",
   "execution_count": 3,
   "id": "0f6b3486-6cde-4fbe-8da5-7f1387e9694b",
   "metadata": {},
   "outputs": [],
   "source": [
    "# world coordinates: (M,3), image_coordinates: (M,2)\n",
    "def calibrate_perspective_camera(world_coordinates, image_coordinates):\n",
    "    wc,ic = world_coordinates, image_coordinates\n",
    "    wc = np.pad(wc,[(0,0),(0,1)],mode='constant',constant_values=1.) # (M,4)\n",
    "    pstack = np.repeat(wc, repeats=2, axis=0) # (2M,4)\n",
    "    # scale even & odd rows with different values\n",
    "    v1 = np.array([1,0])\n",
    "    tmp1 = np.tile(v1,wc.shape[0])[:,np.newaxis] * pstack # (2M,4)\n",
    "    v2 = np.array([0,1])\n",
    "    tmp2 = np.tile(v2,wc.shape[0])[:,np.newaxis] * pstack # (2M,4)\n",
    "    pix = ic.reshape(-1,1) # (2M,1)    \n",
    "    tmp3 = - pix * pstack # (2M,4)\n",
    "    P = np.concatenate((tmp1,tmp2,tmp3),axis=1) # (2M,12)\n",
    "    # optimization problem solved with Singular Value Decomposition\n",
    "    u,s,vh = np.linalg.svd(P)\n",
    "    # take last column of V, or the last row of V.T: (12,)\n",
    "    sol = vh[-1]\n",
    "    # construct camera matrix M: (3,4)\n",
    "    M = sol.reshape(3,4)\n",
    "    return M\n",
    "\n",
    "# affine camera model: Standard Least Squares\n",
    "def calibrate_affine_camera(world_coordinates, image_coordinates):\n",
    "    wc,ic = world_coordinates, image_coordinates\n",
    "    wc = np.pad(wc,[(0,0),(0,1)],mode='constant',constant_values=1.) # (M,4)\n",
    "    pstack = np.repeat(wc, repeats=2, axis=0) # (2M,4)\n",
    "    # scale even & odd rows with different values\n",
    "    v1 = np.array([1,0])\n",
    "    tmp1 = np.tile(v1,wc.shape[0])[:,np.newaxis] * pstack # (2M,4)\n",
    "    v2 = np.array([0,1])\n",
    "    tmp2 = np.tile(v2,wc.shape[0])[:,np.newaxis] * pstack # (2M,4)\n",
    "    P = np.concatenate((tmp1,tmp2),axis=1) # (2M,8)\n",
    "    b = image_coordinates.reshape(-1,1) # (2M,1)\n",
    "    m_ls = np.linalg.inv(P.T@P)@(P.T)@b # (8,1)\n",
    "    # construct affine camera matrix\n",
    "    M12 = m_ls.reshape(2,4) # (2,4)\n",
    "    M3 = np.array([[0.,0.,0.,1.]]) # (1,4)\n",
    "    M = np.concatenate((M12,M3),axis=0)\n",
    "    return M"
   ]
  },
  {
   "cell_type": "markdown",
   "id": "608de8ab-0619-4735-aad1-dec74bdef77f",
   "metadata": {},
   "source": [
    "To generalize the usage, specify world_coordinates (-1,3) and image_coordinates (-1,2) for application of above function."
   ]
  },
  {
   "cell_type": "code",
   "execution_count": 4,
   "id": "06ef7b5c-e280-491f-8a94-c0c6f1f922da",
   "metadata": {},
   "outputs": [
    {
     "name": "stdout",
     "output_type": "stream",
     "text": [
      "Calibrated Perspective Camera model is:\n",
      " [[ 3.86081985e-03 -1.14839115e-04  8.75272791e-04  9.46068598e-01]\n",
      " [ 3.42814033e-04  3.92515324e-03 -7.51681648e-04  3.23835234e-01]\n",
      " [-6.97426063e-08  8.23266292e-08 -1.33752672e-08  7.29214554e-03]]\n",
      "\n",
      " Calibrated Affine Camera model is:\n",
      " [[ 5.31276507e-01 -1.80886074e-02  1.20509667e-01  1.29720641e+02]\n",
      " [ 4.84975447e-02  5.36366401e-01 -1.02675222e-01  4.43879607e+01]\n",
      " [ 0.00000000e+00  0.00000000e+00  0.00000000e+00  1.00000000e+00]]\n"
     ]
    }
   ],
   "source": [
    "# world coordinate for first imageL (N,3)\n",
    "wc1 = np.pad(real_XY,[(0,0),(0,1)],mode='constant',constant_values=0.)\n",
    "# world coordinate for second image: (N,3)\n",
    "wc2 = np.pad(real_XY,[(0,0),(0,1)],mode='constant',constant_values=150.)\n",
    "# world coordinates (3D) and image coordinate (2D) construction\n",
    "world_coordinates = np.concatenate((wc1,wc2),axis=0) # (2N,3)\n",
    "image_coordinates = np.concatenate((front_image,back_image)) # (2N,2)\n",
    "\n",
    "# fit the perspective camera model\n",
    "M0 = calibrate_perspective_camera(world_coordinates, image_coordinates)\n",
    "M1 = calibrate_affine_camera(world_coordinates, image_coordinates)\n",
    "print('Calibrated Perspective Camera model is:\\n',M0)\n",
    "print('\\n Calibrated Affine Camera model is:\\n',M1)"
   ]
  },
  {
   "cell_type": "markdown",
   "id": "db458605-de06-4968-99bb-1c18e82424e8",
   "metadata": {},
   "source": [
    "#### 3. RMS Error"
   ]
  },
  {
   "cell_type": "code",
   "execution_count": 5,
   "id": "6795a17a-7010-4a48-8e44-a537f437f7a1",
   "metadata": {},
   "outputs": [
    {
     "name": "stdout",
     "output_type": "stream",
     "text": [
      "RMS for calibrated perspective camera model is: 0.9916933372299293\n",
      "RMS for calibrated affine camera model is: 0.9938304832798437\n"
     ]
    }
   ],
   "source": [
    "def rms_error(world_coordinates, image_coordinates, camera_matrx):\n",
    "    wc,ic,M = world_coordinates, image_coordinates, camera_matrx\n",
    "    # obtain predicted image coordinate\n",
    "    wc_proj = np.pad(wc,[(0,0),(0,1)],mode='constant',constant_values=1) # (M,4)\n",
    "    pred_ic_proj = (M @ wc_proj[:,:,np.newaxis])[:,:,0] # (M,3)\n",
    "    pred_ic = pred_ic_proj[:,:2]/pred_ic_proj[:,2:] # (M,2)\n",
    "    # compute RMS\n",
    "    sq_diff = np.sum((pred_ic - ic)**2,axis=1)\n",
    "    rms = np.sqrt(np.mean(sq_diff))\n",
    "    return rms\n",
    "\n",
    "print('RMS for calibrated perspective camera model is:',rms_error(world_coordinates, image_coordinates, M0))\n",
    "print('RMS for calibrated affine camera model is:',rms_error(world_coordinates, image_coordinates, M1))"
   ]
  },
  {
   "cell_type": "markdown",
   "id": "51d8dd71-503f-4c02-86f6-3e9565632a37",
   "metadata": {},
   "source": [
    "#### 4. Compute Vanishing points"
   ]
  },
  {
   "cell_type": "code",
   "execution_count": 6,
   "id": "29a0da3c-431a-4c82-9ea3-db8f8f95c92c",
   "metadata": {},
   "outputs": [],
   "source": [
    "# input four points: pts[0]-pts[1] form one parallel line, pts[2]-pts[3] another\n",
    "def compute_vanishing_point(pts):\n",
    "    a1 = (pts[1] - pts[0])[::-1] * np.array([1,-1])\n",
    "    a2 = (pts[3] - pts[2])[::-1] * np.array([1,-1])\n",
    "    c1 = np.sum(pts[0]*a1)\n",
    "    c2 = np.sum(pts[2]*a2)\n",
    "    v = np.linalg.solve(np.stack((a1,a2)), np.stack((c1,c2)))\n",
    "    return v\n",
    "\n",
    "# for derivation process see deri.ipynb\n",
    "def compute_K_from_vanishing_points(vanishing_points):\n",
    "    v1,v2,v3 = vanishing_points\n",
    "    A1 = np.array([v1[0]*v2[0]+v1[1]*v2[1],v1[0]+v2[0],v1[1]+v2[1],1])\n",
    "    A2 = np.array([v1[0]*v3[0]+v1[1]*v3[1],v1[0]+v3[0],v1[1]+v3[1],1])\n",
    "    A3 = np.array([v2[0]*v3[0]+v2[1]*v3[1],v2[0]+v3[0],v2[1]+v3[1],1])\n",
    "    A = np.vstack((A1,A2,A3))\n",
    "    # solve for w', the wrongly scaled solution\n",
    "    u,s,vt = np.linalg.svd(A)\n",
    "    w = vt[-1]\n",
    "    # construct omega from w values\n",
    "    omega = np.array([[w[0],0,w[1]],\n",
    "                      [0,w[0],w[2]],\n",
    "                      [w[1],w[2],w[3]]])\n",
    "    # Cholesky decomposition to get wrongly scaled intrinsic matrix K\n",
    "    KT_inv = np.linalg.cholesky(omega)\n",
    "    K = np.linalg.inv(KT_inv.T)\n",
    "    # normalized K to the correctly scaled, thanks to the fact that K[2,2]=1\n",
    "    K /= K[2,2]\n",
    "    return K"
   ]
  },
  {
   "cell_type": "markdown",
   "id": "05b5f3a5-320b-43f0-a116-dba28207345d",
   "metadata": {},
   "source": [
    "Derivation process for $(e)$ question:\n",
    "\n",
    "1. To compute the angle between two planes (in world 3D coordinate), we need their normal vector's direction (only ratio matters not scale).\n",
    "2. Given 2 pairs of two vanishing points, which are points on image plane (2D) which is projection of point at infinity for two different parallel lines on each plane.\n",
    "3. On plane 1, we have two different point at infinity $(d_{1x},d_{1y},d_{1z},0)$, $(d_{2x},d_{2y},d_{2z},0)$ which implies that the first point are interception of all paralle lines having form $\\lambda(d_{1x},d_{1y},d_{1z})+(x_{0},y_{0}z_{0},1)$ for $(x_{0},y_{0},z_{0}) \\in \\mathbb{R}^{3}$ and also on plane 1 ,$\\lambda \\in \\mathbb{R}$, and second point is simply the ideal point in $\\mathbb{P}^{3}$ which correspond to parallel line with direction $(d_{2x},d_{2y},d_{2z})$\n",
    "4. Since the normal vector for plane 1 is orthogonal to all lines on plane 1, we have $n^{T}d_{1}=n^{T}d_{2}=0$, we can also write $n = d_{1}\\times d_{2}$ where we use the cross product, note again that scale doens't matter for $n$, only the ratio or 'direction' does.\n",
    "5. Now, we have $v=Kd$, therefore by standard property of cross product we have that\n",
    "\n",
    "$$\n",
    "n = d_{1} \\times d_{2} = K^{-1}v_{1} \\times K^{-1}v_{2} = \\det(K)^{-1}K^{T}(v_{1}\\times v_{2}) \\propto K^{T}(v_{1}\\times v_{2})\n",
    "$$\n",
    "\n",
    "6. Say we have normal vectors for the two plane, $n_{1}\\propto K^{T}(v_{1}\\times v_{2}), n_{2}\\propto K^{T}(v_{3}\\times v_{4})$. Then angles of two plane are the same as (the smaller) angle of two normal vectors.\n",
    "$$\n",
    "\\cos(\\angle plane_1 plane_2) = \\cos(\\angle n_{1}n_{2}) = \\frac{n_{1}^{T}n_{2}}{\\|n_{1}\\| \\|n_{2}\\|}\n",
    "$$\n",
    "where we note that \n",
    "$$\n",
    "n_{1}^{T}n_{2} = det(K)^{-2} (v_{1}\\times v_{2})^{T} KK^{T} (v_{3}\\times v_{4})\n",
    "$$\n",
    "the scale of $n_{1},n_{2}$ doesn't matter because the scaling factor get cancelled out during computation of $\\cos(\\angle(n_{1}n_{2}))$\n",
    "7. Since $\\omega = (KK^{T})^{-1}$, we have \n",
    "$$\n",
    "n_{1}^{T}n_{2} = (v_{1}\\times v_{2})^{T} \\omega^{-1} (v_{3}\\times v_{4})\n",
    "$$"
   ]
  },
  {
   "cell_type": "code",
   "execution_count": 58,
   "id": "682edb7c-ca16-4ceb-b44d-55337561be08",
   "metadata": {},
   "outputs": [],
   "source": [
    "def compute_angle_between_planes(vanishing_pair1, vanishing_pair2, K):\n",
    "    # pad to trun vanihsing points from R2 into P2 projective coordinates\n",
    "    v1 = np.pad(vanishing_pair1[0],(0,1),constant_values=1.)\n",
    "    v2 = np.pad(vanishing_pair1[1],(0,1),constant_values=1.)\n",
    "    v3 = np.pad(vanishing_pair2[0],(0,1),constant_values=1.)\n",
    "    v4 = np.pad(vanishing_pair2[1],(0,1),constant_values=1.)\n",
    "    # compute cross product for multiple reusing\n",
    "    l1 = np.cross(v1,v2)\n",
    "    l2 = np.cross(v3,v4)\n",
    "    l1 /= np.linalg.norm(l1)\n",
    "    l2 /= np.linalg.norm(l2)\n",
    "    # compute omega inverse \n",
    "    inv_omega = K@(K.T)\n",
    "    # compute cos(theta)\n",
    "    cos_theta = (l1.T@inv_omega@l2)/(np.sqrt(l1.T@inv_omega@l1)*np.sqrt(l2.T@inv_omega@l2))\n",
    "    # retrieve the angle from its cosine value\n",
    "    theta = (np.arccos(cos_theta)/np.pi) * 180\n",
    "    \n",
    "    return theta"
   ]
  },
  {
   "cell_type": "markdown",
   "id": "f904b43a-613a-4939-96fd-4f1ed202eaad",
   "metadata": {},
   "source": [
    "Derivation for (f).\n",
    "1. under real world coordinate, line with direction $(d_x,d_y,d_z)$ got translated into 1st camera coordinate through \n",
    "$$\n",
    "d_{1} = [R_{1},T_{1}]d\n",
    "$$ \n",
    "translated into 2nd camera coordinate through \n",
    "$$\n",
    "d_{2} = [RR_{1},T_{1}]d = Rd_{1}\n",
    "$$ where we would like to solve for the rotation matrix $R$. \n",
    "2. There are 3 DFs related to $R$, thus we use 3 different corresponding vanishing points (correspond to 3 lines/directions in 3D world/camera coordinates for the two images taken with different camera angles), then we do simple inverse and solve for $R$.\n",
    "$$\n",
    "R[d_{1}^{1},d_{1}^{2},d_{1}^{3}] = [d_{2}^{1},d_{2}^{2},d_{2}^{3}] \\\\\n",
    "R = [d_{2}^{1},d_{2}^{2},d_{2}^{3}] [d_{1}^{1},d_{1}^{2},d_{1}^{3}]^{-1} \\\\\n",
    "R = D_{2} D_{1}^{-1}\n",
    "$$\n",
    "3. Note that we have vanishing points $p_{1},p_{2}$, satisfying\n",
    "$$\n",
    "p_{1}=Kd_{1}, d_{1}=K^{-1}p_{1}\n",
    "$$\n",
    "where $p_{1}$ need to be in $\\mathbb{P}^{2}$, projective coordinate (3-dimensional)\n",
    "4. We need to normalize $d_{i}$ such that $\\|d_{i}\\|=1$, since we don't have constraint on $v_{i}$'s scale due to nature of projective coordinates and $\\det(K)$ is not constrained, we need to normalize on $d_{i}$ to ensure our $R$ is correct."
   ]
  },
  {
   "cell_type": "code",
   "execution_count": 153,
   "id": "7ad627dd-8cb6-433b-9e71-7ac9c251c83e",
   "metadata": {},
   "outputs": [],
   "source": [
    "def compute_rotation_matrix_between_cameras(vanishing_pts1, vanishing_pts2, K):\n",
    "    v1,v2,v3 = vanishing_pts1\n",
    "    v1b,v2b,v3b = vanishing_pts2\n",
    "    V1 = np.pad(np.vstack((v1,v2,v3)),[(0,0),(0,1)],constant_values=1.0).T\n",
    "    V2 = np.pad(np.vstack((v1b,v2b,v3b)),[(0,0),(0,1)],constant_values=1.0).T\n",
    "    inv_K = np.linalg.inv(K)\n",
    "    D1 = inv_K @ V1\n",
    "    D2 = inv_K @ V2\n",
    "    # normalize on d=K^{-1}v seperately such that ||d||=1\n",
    "    D1 /= np.linalg.norm(D1,axis=0)\n",
    "    D2 /= np.linalg.norm(D2,axis=0)\n",
    "    # compute R with matrix inversion\n",
    "    R = D2 @ np.linalg.inv(D1)\n",
    "    return R"
   ]
  },
  {
   "cell_type": "code",
   "execution_count": 161,
   "id": "308a9223-45ec-4897-8f67-6dda9bb03788",
   "metadata": {},
   "outputs": [],
   "source": [
    "from utils import mat2euler\n",
    "\n",
    "# Part A: Compute vanishing points.\n",
    "v1 = compute_vanishing_point(np.array(\n",
    "        [[674, 1826], [2456, 1060], [1094, 1340], [1774, 1086]]))\n",
    "v2 = compute_vanishing_point(np.array(\n",
    "        [[674, 1826], [126, 1056], [2456, 1060], [1940, 866]]))\n",
    "v3 = compute_vanishing_point(np.array(\n",
    "        [[1094, 1340], [1080, 598], [1774, 1086], [1840, 478]]))\n",
    "\n",
    "v1b = compute_vanishing_point(np.array(\n",
    "        [[314, 1912], [2060, 1040], [750, 1378], [1438, 1094]]))\n",
    "v2b = compute_vanishing_point(np.array(\n",
    "        [[314, 1912], [36, 1578], [2060, 1040], [1598, 882]]))\n",
    "v3b = compute_vanishing_point(np.array(\n",
    "        [[750, 1378], [714, 614], [1438, 1094], [1474, 494]]))\n",
    "\n",
    "# Part B: Compute the camera matrix.\n",
    "vanishing_points = [v1, v2, v3]\n",
    "K_ours = compute_K_from_vanishing_points(vanishing_points)\n",
    "#print \"Intrinsic Matrix:\\n\", K_ours\n",
    "\n",
    "K_actual = np.array([[2448.0, 0, 1253.0], [0, 2438.0, 986.0], [0, 0, 1.0]])\n",
    "#print\n",
    "#print \"Actual Matrix:\\n\", K_actual\n",
    "\n",
    "# Part D: Estimate the angle between the box and floor.\n",
    "floor_vanishing1 = v1\n",
    "floor_vanishing2 = v2\n",
    "box_vanishing1 = v3\n",
    "box_vanishing2 = compute_vanishing_point(np.array(\n",
    "        [[1094, 1340], [1774, 1086], [1080, 598], [1840, 478]]))\n",
    "angle = compute_angle_between_planes(\n",
    "            [floor_vanishing1, floor_vanishing2],\n",
    "            [box_vanishing1, box_vanishing2], K_actual)\n",
    "\n",
    "# Part E: Compute the rotation matrix between the two cameras.\n",
    "rotation_matrix = compute_rotation_matrix_between_cameras(\n",
    "        np.array([v1, v2, v3]), np.array([v1b, v2b, v3b]), K_actual)\n",
    "z, y, x = mat2euler(rotation_matrix)\n",
    "x_angle = x * 180 / math.pi\n",
    "y_angle = y * 180 / math.pi\n",
    "z_angle = z * 180 / math.pi"
   ]
  },
  {
   "cell_type": "code",
   "execution_count": null,
   "id": "2890e605-b39c-4fc4-9a18-93bf7097920e",
   "metadata": {},
   "outputs": [],
   "source": []
  },
  {
   "cell_type": "code",
   "execution_count": null,
   "id": "a8dd68a3-9574-4627-a6ed-b0c90e23b2e3",
   "metadata": {},
   "outputs": [],
   "source": []
  },
  {
   "cell_type": "code",
   "execution_count": null,
   "id": "1d92145e-7494-45d5-8739-7f24b03589b6",
   "metadata": {},
   "outputs": [],
   "source": []
  },
  {
   "cell_type": "code",
   "execution_count": null,
   "id": "2440eb93-7bed-4420-8667-8c77e589aac5",
   "metadata": {},
   "outputs": [],
   "source": []
  }
 ],
 "metadata": {
  "kernelspec": {
   "display_name": "Python 3 (ipykernel)",
   "language": "python",
   "name": "python3"
  },
  "language_info": {
   "codemirror_mode": {
    "name": "ipython",
    "version": 3
   },
   "file_extension": ".py",
   "mimetype": "text/x-python",
   "name": "python",
   "nbconvert_exporter": "python",
   "pygments_lexer": "ipython3",
   "version": "3.7.7"
  }
 },
 "nbformat": 4,
 "nbformat_minor": 5
}
