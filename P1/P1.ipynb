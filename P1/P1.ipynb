{
 "cells": [
  {
   "cell_type": "code",
   "execution_count": 216,
   "id": "52ef01cc-f896-45bf-9ada-ce9bc3c5fd8b",
   "metadata": {},
   "outputs": [],
   "source": [
    "import numpy as np\n",
    "\"\"\"\n",
    "Computes camera matrix given image and real-world coordinates.\n",
    "\n",
    "    Args:\n",
    "        real_XY: Each row corresponds to an actual point on the 2D plane.\n",
    "        front_image: Each row is the pixel location in the front image (Z=0).\n",
    "        back_image: Each row is the pixel location in the back image (Z=150).\n",
    "    Returns:\n",
    "        camera_matrix: The calibrated camera matrix (3x4 matrix).\n",
    "\"\"\"\n",
    "\"I guess such corresponding points are hand-crafted\"\n",
    "real_XY = np.load('real_XY.npy')\n",
    "front_image = np.load('front_image.npy')\n",
    "back_image = np.load('back_image.npy')"
   ]
  },
  {
   "cell_type": "markdown",
   "id": "3e8ee959-e880-423a-abe6-af0f95d189ae",
   "metadata": {},
   "source": [
    "#### 1. Perspective Camera Calibration\n",
    "\n",
    "Deal with 11 DFs camera matrix with 12 parameters in total, solved through constraint minimization problem with SVD.\n",
    "\n",
    "#### 2. Affine Camera Calibration\n",
    "\n",
    "Deal with 8 DFs camera matrix with 8 parameters in total, solved with LSE on linear system."
   ]
  },
  {
   "cell_type": "code",
   "execution_count": 167,
   "id": "0f6b3486-6cde-4fbe-8da5-7f1387e9694b",
   "metadata": {},
   "outputs": [],
   "source": [
    "# world coordinates: (M,3), image_coordinates: (M,2)\n",
    "def calibrate_perspective_camera(world_coordinates, image_coordinates):\n",
    "    wc,ic = world_coordinates, image_coordinates\n",
    "    wc = np.pad(wc,[(0,0),(0,1)],mode='constant',constant_values=1.) # (M,4)\n",
    "    pstack = np.repeat(wc, repeats=2, axis=0) # (2M,4)\n",
    "    # scale even & odd rows with different values\n",
    "    v1 = np.array([1,0])\n",
    "    tmp1 = np.tile(v1,wc.shape[0])[:,np.newaxis] * pstack # (2M,4)\n",
    "    v2 = np.array([0,1])\n",
    "    tmp2 = np.tile(v2,wc.shape[0])[:,np.newaxis] * pstack # (2M,4)\n",
    "    pix = ic.reshape(-1,1) # (2M,1)    \n",
    "    tmp3 = - pix * pstack # (2M,4)\n",
    "    P = np.concatenate((tmp1,tmp2,tmp3),axis=1) # (2M,12)\n",
    "    # optimization problem solved with Singular Value Decomposition\n",
    "    u,s,vh = np.linalg.svd(P)\n",
    "    # take last column of V, or the last row of V.T: (12,)\n",
    "    sol = vh[-1]\n",
    "    # construct camera matrix M: (3,4)\n",
    "    M = sol.reshape(3,4)\n",
    "    return M\n",
    "\n",
    "# affine camera model: Standard Least Squares\n",
    "def calibrate_affine_camera(world_coordinates, image_coordinates):\n",
    "    wc,ic = world_coordinates, image_coordinates\n",
    "    wc = np.pad(wc,[(0,0),(0,1)],mode='constant',constant_values=1.) # (M,4)\n",
    "    pstack = np.repeat(wc, repeats=2, axis=0) # (2M,4)\n",
    "    # scale even & odd rows with different values\n",
    "    v1 = np.array([1,0])\n",
    "    tmp1 = np.tile(v1,wc.shape[0])[:,np.newaxis] * pstack # (2M,4)\n",
    "    v2 = np.array([0,1])\n",
    "    tmp2 = np.tile(v2,wc.shape[0])[:,np.newaxis] * pstack # (2M,4)\n",
    "    P = np.concatenate((tmp1,tmp2),axis=1) # (2M,8)\n",
    "    b = image_coordinates.reshape(-1,1) # (2M,1)\n",
    "    m_ls = np.linalg.inv(P.T@P)@(P.T)@b # (8,1)\n",
    "    # construct affine camera matrix\n",
    "    M12 = m_ls.reshape(2,4) # (2,4)\n",
    "    M3 = np.array([[0.,0.,0.,1.]]) # (1,4)\n",
    "    M = np.concatenate((M12,M3),axis=0)\n",
    "    return M"
   ]
  },
  {
   "cell_type": "markdown",
   "id": "608de8ab-0619-4735-aad1-dec74bdef77f",
   "metadata": {},
   "source": [
    "To generalize the usage, specify world_coordinates (-1,3) and image_coordinates (-1,2) for application of above function."
   ]
  },
  {
   "cell_type": "code",
   "execution_count": 213,
   "id": "06ef7b5c-e280-491f-8a94-c0c6f1f922da",
   "metadata": {},
   "outputs": [
    {
     "name": "stdout",
     "output_type": "stream",
     "text": [
      "Calibrated Perspective Camera model is:\n",
      " [[ 3.86081985e-03 -1.14839115e-04  8.75272791e-04  9.46068598e-01]\n",
      " [ 3.42814033e-04  3.92515324e-03 -7.51681648e-04  3.23835234e-01]\n",
      " [-6.97426063e-08  8.23266292e-08 -1.33752672e-08  7.29214554e-03]]\n",
      "\n",
      " Calibrated Affine Camera model is:\n",
      " [[ 5.31276507e-01 -1.80886074e-02  1.20509667e-01  1.29720641e+02]\n",
      " [ 4.84975447e-02  5.36366401e-01 -1.02675222e-01  4.43879607e+01]\n",
      " [ 0.00000000e+00  0.00000000e+00  0.00000000e+00  1.00000000e+00]]\n"
     ]
    }
   ],
   "source": [
    "# world coordinate for first imageL (N,3)\n",
    "wc1 = np.pad(real_XY,[(0,0),(0,1)],mode='constant',constant_values=0.)\n",
    "# world coordinate for second image: (N,3)\n",
    "wc2 = np.pad(real_XY,[(0,0),(0,1)],mode='constant',constant_values=150.)\n",
    "# world coordinates (3D) and image coordinate (2D) construction\n",
    "world_coordinates = np.concatenate((wc1,wc2),axis=0) # (2N,3)\n",
    "image_coordinates = np.concatenate((front_image,back_image)) # (2N,2)\n",
    "\n",
    "# fit the perspective camera model\n",
    "M0 = calibrate_perspective_camera(world_coordinates, image_coordinates)\n",
    "M1 = calibrate_affine_camera(world_coordinates, image_coordinates)\n",
    "print('Calibrated Perspective Camera model is:\\n',M0)\n",
    "print('\\n Calibrated Affine Camera model is:\\n',M1)"
   ]
  },
  {
   "cell_type": "markdown",
   "id": "db458605-de06-4968-99bb-1c18e82424e8",
   "metadata": {},
   "source": [
    "#### 3. RMS Error"
   ]
  },
  {
   "cell_type": "code",
   "execution_count": 214,
   "id": "6795a17a-7010-4a48-8e44-a537f437f7a1",
   "metadata": {},
   "outputs": [
    {
     "name": "stdout",
     "output_type": "stream",
     "text": [
      "RMS for calibrated perspective camera model is: 0.9916933372299293\n",
      "RMS for calibrated affine camera model is: 0.9938304832798437\n"
     ]
    }
   ],
   "source": [
    "def rms_error(world_coordinates, image_coordinates, camera_matrx):\n",
    "    wc,ic,M = world_coordinates, image_coordinates, camera_matrx\n",
    "    # obtain predicted image coordinate\n",
    "    wc_proj = np.pad(wc,[(0,0),(0,1)],mode='constant',constant_values=1) # (M,4)\n",
    "    pred_ic_proj = (M @ wc_proj[:,:,np.newaxis])[:,:,0] # (M,3)\n",
    "    pred_ic = pred_ic_proj[:,:2]/pred_ic_proj[:,2:] # (M,2)\n",
    "    # compute RMS\n",
    "    sq_diff = np.sum((pred_ic - ic)**2,axis=1)\n",
    "    rms = np.sqrt(np.mean(sq_diff))\n",
    "    return rms\n",
    "\n",
    "print('RMS for calibrated perspective camera model is:',rms_error(world_coordinates, image_coordinates, M0))\n",
    "print('RMS for calibrated affine camera model is:',rms_error(world_coordinates, image_coordinates, M1))"
   ]
  },
  {
   "cell_type": "markdown",
   "id": "51d8dd71-503f-4c02-86f6-3e9565632a37",
   "metadata": {},
   "source": [
    "#### 4. Vanishing points"
   ]
  },
  {
   "cell_type": "code",
   "execution_count": null,
   "id": "d0aee905-d4f4-4e18-a0be-fa8459377140",
   "metadata": {},
   "outputs": [],
   "source": []
  }
 ],
 "metadata": {
  "kernelspec": {
   "display_name": "Python 3 (ipykernel)",
   "language": "python",
   "name": "python3"
  },
  "language_info": {
   "codemirror_mode": {
    "name": "ipython",
    "version": 3
   },
   "file_extension": ".py",
   "mimetype": "text/x-python",
   "name": "python",
   "nbconvert_exporter": "python",
   "pygments_lexer": "ipython3",
   "version": "3.7.7"
  }
 },
 "nbformat": 4,
 "nbformat_minor": 5
}
